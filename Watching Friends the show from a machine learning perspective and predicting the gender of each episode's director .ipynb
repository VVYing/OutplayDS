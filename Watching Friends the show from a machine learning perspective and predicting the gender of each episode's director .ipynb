{
 "cells": [
  {
   "cell_type": "markdown",
   "metadata": {},
   "source": [
    "# Watching Friends the show from a machine learning perspective and predicting the gender of each episode's director \n",
    "\n",
    "Friends Series Dataset\n",
    "Data source - https://www.kaggle.com/rezaghari/friends-series-dataset"
   ]
  },
  {
   "cell_type": "code",
   "execution_count": 1,
   "metadata": {
    "scrolled": true
   },
   "outputs": [
    {
     "data": {
      "text/html": [
       "<div>\n",
       "<style scoped>\n",
       "    .dataframe tbody tr th:only-of-type {\n",
       "        vertical-align: middle;\n",
       "    }\n",
       "\n",
       "    .dataframe tbody tr th {\n",
       "        vertical-align: top;\n",
       "    }\n",
       "\n",
       "    .dataframe thead th {\n",
       "        text-align: right;\n",
       "    }\n",
       "</style>\n",
       "<table border=\"1\" class=\"dataframe\">\n",
       "  <thead>\n",
       "    <tr style=\"text-align: right;\">\n",
       "      <th></th>\n",
       "      <th>Year_of_prod</th>\n",
       "      <th>Season</th>\n",
       "      <th>Episode Number</th>\n",
       "      <th>Episode_Title</th>\n",
       "      <th>Duration</th>\n",
       "      <th>Summary</th>\n",
       "      <th>Director</th>\n",
       "      <th>Stars</th>\n",
       "      <th>Votes</th>\n",
       "    </tr>\n",
       "  </thead>\n",
       "  <tbody>\n",
       "    <tr>\n",
       "      <th>0</th>\n",
       "      <td>1994</td>\n",
       "      <td>1</td>\n",
       "      <td>1</td>\n",
       "      <td>The One Where Monica Gets a Roommate: The Pilot</td>\n",
       "      <td>22</td>\n",
       "      <td>Monica and the gang introduce Rachel to the \"real world\" after she leaves her fianc� at the altar.</td>\n",
       "      <td>James Burrows</td>\n",
       "      <td>8.3</td>\n",
       "      <td>7440</td>\n",
       "    </tr>\n",
       "    <tr>\n",
       "      <th>1</th>\n",
       "      <td>1994</td>\n",
       "      <td>1</td>\n",
       "      <td>2</td>\n",
       "      <td>The One with the Sonogram at the End</td>\n",
       "      <td>22</td>\n",
       "      <td>Ross finds out his ex-wife is pregnant. Rachel returns her engagement ring to Barry. Monica beco...</td>\n",
       "      <td>James Burrows</td>\n",
       "      <td>8.1</td>\n",
       "      <td>4888</td>\n",
       "    </tr>\n",
       "    <tr>\n",
       "      <th>2</th>\n",
       "      <td>1994</td>\n",
       "      <td>1</td>\n",
       "      <td>3</td>\n",
       "      <td>The One with the Thumb</td>\n",
       "      <td>22</td>\n",
       "      <td>Monica becomes irritated when everyone likes her new boyfriend more than she does. Chandler resu...</td>\n",
       "      <td>James Burrows</td>\n",
       "      <td>8.2</td>\n",
       "      <td>4605</td>\n",
       "    </tr>\n",
       "    <tr>\n",
       "      <th>3</th>\n",
       "      <td>1994</td>\n",
       "      <td>1</td>\n",
       "      <td>4</td>\n",
       "      <td>The One with George Stephanopoulos</td>\n",
       "      <td>22</td>\n",
       "      <td>Joey and Chandler take Ross to a hockey game to take his mind off the anniversary of the first t...</td>\n",
       "      <td>James Burrows</td>\n",
       "      <td>8.1</td>\n",
       "      <td>4468</td>\n",
       "    </tr>\n",
       "    <tr>\n",
       "      <th>4</th>\n",
       "      <td>1994</td>\n",
       "      <td>1</td>\n",
       "      <td>5</td>\n",
       "      <td>The One with the East German Laundry Detergent</td>\n",
       "      <td>22</td>\n",
       "      <td>Eager to spend time with Rachel, Ross pretends his washroom is rat-infested so he can join her a...</td>\n",
       "      <td>Pamela Fryman</td>\n",
       "      <td>8.5</td>\n",
       "      <td>4438</td>\n",
       "    </tr>\n",
       "  </tbody>\n",
       "</table>\n",
       "</div>"
      ],
      "text/plain": [
       "   Year_of_prod  Season  Episode Number  \\\n",
       "0          1994       1               1   \n",
       "1          1994       1               2   \n",
       "2          1994       1               3   \n",
       "3          1994       1               4   \n",
       "4          1994       1               5   \n",
       "\n",
       "                                     Episode_Title  Duration  \\\n",
       "0  The One Where Monica Gets a Roommate: The Pilot        22   \n",
       "1             The One with the Sonogram at the End        22   \n",
       "2                           The One with the Thumb        22   \n",
       "3               The One with George Stephanopoulos        22   \n",
       "4   The One with the East German Laundry Detergent        22   \n",
       "\n",
       "                                                                                               Summary  \\\n",
       "0   Monica and the gang introduce Rachel to the \"real world\" after she leaves her fianc� at the altar.   \n",
       "1  Ross finds out his ex-wife is pregnant. Rachel returns her engagement ring to Barry. Monica beco...   \n",
       "2  Monica becomes irritated when everyone likes her new boyfriend more than she does. Chandler resu...   \n",
       "3  Joey and Chandler take Ross to a hockey game to take his mind off the anniversary of the first t...   \n",
       "4  Eager to spend time with Rachel, Ross pretends his washroom is rat-infested so he can join her a...   \n",
       "\n",
       "        Director  Stars  Votes  \n",
       "0  James Burrows    8.3   7440  \n",
       "1  James Burrows    8.1   4888  \n",
       "2  James Burrows    8.2   4605  \n",
       "3  James Burrows    8.1   4468  \n",
       "4  Pamela Fryman    8.5   4438  "
      ]
     },
     "execution_count": 1,
     "metadata": {},
     "output_type": "execute_result"
    }
   ],
   "source": [
    "import pandas as pd\n",
    "import re\n",
    "import string\n",
    "import nltk\n",
    "pd.set_option('display.max_colwidth', 100)\n",
    "\n",
    "from sklearn.feature_extraction.text import TfidfVectorizer\n",
    "\n",
    "stopwords = nltk.corpus.stopwords.words('english')\n",
    "ps = nltk.PorterStemmer()\n",
    "\n",
    "Friends = pd.read_csv('C:\\\\Kaggle\\\\DataSet\\\\Friends Series Dataset\\\\friends_episodes.csv')\n",
    "Friends.head()"
   ]
  },
  {
   "cell_type": "code",
   "execution_count": 2,
   "metadata": {},
   "outputs": [
    {
     "data": {
      "text/html": [
       "<div>\n",
       "<style scoped>\n",
       "    .dataframe tbody tr th:only-of-type {\n",
       "        vertical-align: middle;\n",
       "    }\n",
       "\n",
       "    .dataframe tbody tr th {\n",
       "        vertical-align: top;\n",
       "    }\n",
       "\n",
       "    .dataframe thead th {\n",
       "        text-align: right;\n",
       "    }\n",
       "</style>\n",
       "<table border=\"1\" class=\"dataframe\">\n",
       "  <thead>\n",
       "    <tr style=\"text-align: right;\">\n",
       "      <th></th>\n",
       "      <th>Year_of_prod</th>\n",
       "      <th>Season</th>\n",
       "      <th>Episode Number</th>\n",
       "      <th>Duration</th>\n",
       "      <th>Stars</th>\n",
       "      <th>Votes</th>\n",
       "    </tr>\n",
       "  </thead>\n",
       "  <tbody>\n",
       "    <tr>\n",
       "      <th>count</th>\n",
       "      <td>236.000000</td>\n",
       "      <td>236.000000</td>\n",
       "      <td>236.000000</td>\n",
       "      <td>236.000000</td>\n",
       "      <td>236.000000</td>\n",
       "      <td>236.000000</td>\n",
       "    </tr>\n",
       "    <tr>\n",
       "      <th>mean</th>\n",
       "      <td>1998.961864</td>\n",
       "      <td>5.377119</td>\n",
       "      <td>12.377119</td>\n",
       "      <td>22.338983</td>\n",
       "      <td>8.458898</td>\n",
       "      <td>3369.605932</td>\n",
       "    </tr>\n",
       "    <tr>\n",
       "      <th>std</th>\n",
       "      <td>2.843924</td>\n",
       "      <td>2.814428</td>\n",
       "      <td>6.936010</td>\n",
       "      <td>1.514303</td>\n",
       "      <td>0.396320</td>\n",
       "      <td>864.431311</td>\n",
       "    </tr>\n",
       "    <tr>\n",
       "      <th>min</th>\n",
       "      <td>1994.000000</td>\n",
       "      <td>1.000000</td>\n",
       "      <td>1.000000</td>\n",
       "      <td>22.000000</td>\n",
       "      <td>7.200000</td>\n",
       "      <td>2557.000000</td>\n",
       "    </tr>\n",
       "    <tr>\n",
       "      <th>25%</th>\n",
       "      <td>1997.000000</td>\n",
       "      <td>3.000000</td>\n",
       "      <td>6.000000</td>\n",
       "      <td>22.000000</td>\n",
       "      <td>8.200000</td>\n",
       "      <td>2886.750000</td>\n",
       "    </tr>\n",
       "    <tr>\n",
       "      <th>50%</th>\n",
       "      <td>1999.000000</td>\n",
       "      <td>5.000000</td>\n",
       "      <td>12.000000</td>\n",
       "      <td>22.000000</td>\n",
       "      <td>8.400000</td>\n",
       "      <td>3148.500000</td>\n",
       "    </tr>\n",
       "    <tr>\n",
       "      <th>75%</th>\n",
       "      <td>2001.000000</td>\n",
       "      <td>8.000000</td>\n",
       "      <td>18.000000</td>\n",
       "      <td>22.000000</td>\n",
       "      <td>8.700000</td>\n",
       "      <td>3583.500000</td>\n",
       "    </tr>\n",
       "    <tr>\n",
       "      <th>max</th>\n",
       "      <td>2004.000000</td>\n",
       "      <td>10.000000</td>\n",
       "      <td>25.000000</td>\n",
       "      <td>30.000000</td>\n",
       "      <td>9.700000</td>\n",
       "      <td>10381.000000</td>\n",
       "    </tr>\n",
       "  </tbody>\n",
       "</table>\n",
       "</div>"
      ],
      "text/plain": [
       "       Year_of_prod      Season  Episode Number    Duration       Stars  \\\n",
       "count    236.000000  236.000000      236.000000  236.000000  236.000000   \n",
       "mean    1998.961864    5.377119       12.377119   22.338983    8.458898   \n",
       "std        2.843924    2.814428        6.936010    1.514303    0.396320   \n",
       "min     1994.000000    1.000000        1.000000   22.000000    7.200000   \n",
       "25%     1997.000000    3.000000        6.000000   22.000000    8.200000   \n",
       "50%     1999.000000    5.000000       12.000000   22.000000    8.400000   \n",
       "75%     2001.000000    8.000000       18.000000   22.000000    8.700000   \n",
       "max     2004.000000   10.000000       25.000000   30.000000    9.700000   \n",
       "\n",
       "              Votes  \n",
       "count    236.000000  \n",
       "mean    3369.605932  \n",
       "std      864.431311  \n",
       "min     2557.000000  \n",
       "25%     2886.750000  \n",
       "50%     3148.500000  \n",
       "75%     3583.500000  \n",
       "max    10381.000000  "
      ]
     },
     "execution_count": 2,
     "metadata": {},
     "output_type": "execute_result"
    }
   ],
   "source": [
    "Friends.describe()"
   ]
  },
  {
   "cell_type": "code",
   "execution_count": 3,
   "metadata": {},
   "outputs": [
    {
     "data": {
      "text/plain": [
       "array(['James Burrows', 'Pamela Fryman', 'Arlene Sanford', 'Peter Bonerz',\n",
       "       'Paul Lazarus', 'Alan Myerson', 'Michael Lembeck', 'Gail Mancuso',\n",
       "       'Robby Benson', 'Kevin Bright', 'Ellen Gittelsohn',\n",
       "       'Mary Kay Place', 'Thomas Schlamme', 'Steve Zuckerman',\n",
       "       'Terry Hughes', 'Sam Simon', 'Shelley Jensen', 'Gary Halvorson',\n",
       "       'David Steinberg', 'Dana De Vally Piazza', 'Joe Regalbuto',\n",
       "       'Andrew Tsao', 'Todd Holland', 'David Schwimmer', 'Ben Weiss',\n",
       "       'Stephen Prime', 'Sheldon Epps', 'Roger Christiansen'],\n",
       "      dtype=object)"
      ]
     },
     "execution_count": 3,
     "metadata": {},
     "output_type": "execute_result"
    }
   ],
   "source": [
    "# Create a categorical feature based on the gender of directors\n",
    "Friends.Director.unique()"
   ]
  },
  {
   "cell_type": "code",
   "execution_count": 4,
   "metadata": {},
   "outputs": [],
   "source": [
    "Friends['Gender'] = ['Female' if x =='Arlene Sanford' or x =='Ellen Gittelsohn' or x =='Gail Mancuso' or x =='Mary Kay Place' or x =='Pamela Fryman' or x =='Shelley Jensen' else 'Male' for x in Friends['Director']]"
   ]
  },
  {
   "cell_type": "code",
   "execution_count": 5,
   "metadata": {},
   "outputs": [
    {
     "data": {
      "text/plain": [
       "Gender\n",
       "Female    8.383016\n",
       "Male      8.471200\n",
       "Name: Stars, dtype: float64"
      ]
     },
     "execution_count": 5,
     "metadata": {},
     "output_type": "execute_result"
    }
   ],
   "source": [
    "Friends.groupby(['Gender', 'Year_of_prod'], as_index=False).mean().groupby('Gender')['Stars'].mean()"
   ]
  },
  {
   "cell_type": "code",
   "execution_count": 6,
   "metadata": {},
   "outputs": [],
   "source": [
    "# Remove punctuation, tokenization, remove Stopwords, and stemming\n",
    "def clean_text(text):\n",
    "    text = \"\".join([word.lower() for word in text if word not in string.punctuation])\n",
    "    tokens = re.split('\\W+', text)\n",
    "    text = [ps.stem(word) for word in tokens if word not in stopwords]\n",
    "    return text"
   ]
  },
  {
   "cell_type": "code",
   "execution_count": 7,
   "metadata": {},
   "outputs": [
    {
     "data": {
      "text/plain": [
       "(236, 1284)"
      ]
     },
     "execution_count": 7,
     "metadata": {},
     "output_type": "execute_result"
    }
   ],
   "source": [
    "# Apply TfidfVectorizer, tried Count Vectorization, too\n",
    "\n",
    "from sklearn.feature_extraction.text import TfidfVectorizer\n",
    "\n",
    "tfidf_vect = TfidfVectorizer(analyzer=clean_text)\n",
    "X_tfidf = tfidf_vect.fit_transform(Friends['Summary'])\n",
    "X_tfidf.shape"
   ]
  },
  {
   "cell_type": "code",
   "execution_count": 8,
   "metadata": {},
   "outputs": [
    {
     "data": {
      "text/html": [
       "<div>\n",
       "<style scoped>\n",
       "    .dataframe tbody tr th:only-of-type {\n",
       "        vertical-align: middle;\n",
       "    }\n",
       "\n",
       "    .dataframe tbody tr th {\n",
       "        vertical-align: top;\n",
       "    }\n",
       "\n",
       "    .dataframe thead th {\n",
       "        text-align: right;\n",
       "    }\n",
       "</style>\n",
       "<table border=\"1\" class=\"dataframe\">\n",
       "  <thead>\n",
       "    <tr style=\"text-align: right;\">\n",
       "      <th></th>\n",
       "      <th></th>\n",
       "      <th>18</th>\n",
       "      <th>1950</th>\n",
       "      <th>30th</th>\n",
       "      <th>35th</th>\n",
       "      <th>50</th>\n",
       "      <th>7000</th>\n",
       "      <th>accent</th>\n",
       "      <th>accept</th>\n",
       "      <th>accident</th>\n",
       "      <th>...</th>\n",
       "      <th>wreak</th>\n",
       "      <th>write</th>\n",
       "      <th>writer</th>\n",
       "      <th>wrong</th>\n",
       "      <th>wrote</th>\n",
       "      <th>year</th>\n",
       "      <th>yeller</th>\n",
       "      <th>yeti</th>\n",
       "      <th>york</th>\n",
       "      <th>younger</th>\n",
       "    </tr>\n",
       "  </thead>\n",
       "  <tbody>\n",
       "    <tr>\n",
       "      <th>0</th>\n",
       "      <td>0.000000</td>\n",
       "      <td>0.0</td>\n",
       "      <td>0.0</td>\n",
       "      <td>0.0</td>\n",
       "      <td>0.0</td>\n",
       "      <td>0.0</td>\n",
       "      <td>0.000000</td>\n",
       "      <td>0.0</td>\n",
       "      <td>0.0</td>\n",
       "      <td>0.0</td>\n",
       "      <td>...</td>\n",
       "      <td>0.0</td>\n",
       "      <td>0.0</td>\n",
       "      <td>0.0</td>\n",
       "      <td>0.0</td>\n",
       "      <td>0.0</td>\n",
       "      <td>0.0</td>\n",
       "      <td>0.0</td>\n",
       "      <td>0.0</td>\n",
       "      <td>0.0</td>\n",
       "      <td>0.0</td>\n",
       "    </tr>\n",
       "    <tr>\n",
       "      <th>1</th>\n",
       "      <td>0.000000</td>\n",
       "      <td>0.0</td>\n",
       "      <td>0.0</td>\n",
       "      <td>0.0</td>\n",
       "      <td>0.0</td>\n",
       "      <td>0.0</td>\n",
       "      <td>0.000000</td>\n",
       "      <td>0.0</td>\n",
       "      <td>0.0</td>\n",
       "      <td>0.0</td>\n",
       "      <td>...</td>\n",
       "      <td>0.0</td>\n",
       "      <td>0.0</td>\n",
       "      <td>0.0</td>\n",
       "      <td>0.0</td>\n",
       "      <td>0.0</td>\n",
       "      <td>0.0</td>\n",
       "      <td>0.0</td>\n",
       "      <td>0.0</td>\n",
       "      <td>0.0</td>\n",
       "      <td>0.0</td>\n",
       "    </tr>\n",
       "    <tr>\n",
       "      <th>2</th>\n",
       "      <td>0.000000</td>\n",
       "      <td>0.0</td>\n",
       "      <td>0.0</td>\n",
       "      <td>0.0</td>\n",
       "      <td>0.0</td>\n",
       "      <td>0.0</td>\n",
       "      <td>0.321919</td>\n",
       "      <td>0.0</td>\n",
       "      <td>0.0</td>\n",
       "      <td>0.0</td>\n",
       "      <td>...</td>\n",
       "      <td>0.0</td>\n",
       "      <td>0.0</td>\n",
       "      <td>0.0</td>\n",
       "      <td>0.0</td>\n",
       "      <td>0.0</td>\n",
       "      <td>0.0</td>\n",
       "      <td>0.0</td>\n",
       "      <td>0.0</td>\n",
       "      <td>0.0</td>\n",
       "      <td>0.0</td>\n",
       "    </tr>\n",
       "    <tr>\n",
       "      <th>3</th>\n",
       "      <td>0.000000</td>\n",
       "      <td>0.0</td>\n",
       "      <td>0.0</td>\n",
       "      <td>0.0</td>\n",
       "      <td>0.0</td>\n",
       "      <td>0.0</td>\n",
       "      <td>0.000000</td>\n",
       "      <td>0.0</td>\n",
       "      <td>0.0</td>\n",
       "      <td>0.0</td>\n",
       "      <td>...</td>\n",
       "      <td>0.0</td>\n",
       "      <td>0.0</td>\n",
       "      <td>0.0</td>\n",
       "      <td>0.0</td>\n",
       "      <td>0.0</td>\n",
       "      <td>0.0</td>\n",
       "      <td>0.0</td>\n",
       "      <td>0.0</td>\n",
       "      <td>0.0</td>\n",
       "      <td>0.0</td>\n",
       "    </tr>\n",
       "    <tr>\n",
       "      <th>4</th>\n",
       "      <td>0.000000</td>\n",
       "      <td>0.0</td>\n",
       "      <td>0.0</td>\n",
       "      <td>0.0</td>\n",
       "      <td>0.0</td>\n",
       "      <td>0.0</td>\n",
       "      <td>0.000000</td>\n",
       "      <td>0.0</td>\n",
       "      <td>0.0</td>\n",
       "      <td>0.0</td>\n",
       "      <td>...</td>\n",
       "      <td>0.0</td>\n",
       "      <td>0.0</td>\n",
       "      <td>0.0</td>\n",
       "      <td>0.0</td>\n",
       "      <td>0.0</td>\n",
       "      <td>0.0</td>\n",
       "      <td>0.0</td>\n",
       "      <td>0.0</td>\n",
       "      <td>0.0</td>\n",
       "      <td>0.0</td>\n",
       "    </tr>\n",
       "    <tr>\n",
       "      <th>...</th>\n",
       "      <td>...</td>\n",
       "      <td>...</td>\n",
       "      <td>...</td>\n",
       "      <td>...</td>\n",
       "      <td>...</td>\n",
       "      <td>...</td>\n",
       "      <td>...</td>\n",
       "      <td>...</td>\n",
       "      <td>...</td>\n",
       "      <td>...</td>\n",
       "      <td>...</td>\n",
       "      <td>...</td>\n",
       "      <td>...</td>\n",
       "      <td>...</td>\n",
       "      <td>...</td>\n",
       "      <td>...</td>\n",
       "      <td>...</td>\n",
       "      <td>...</td>\n",
       "      <td>...</td>\n",
       "      <td>...</td>\n",
       "      <td>...</td>\n",
       "    </tr>\n",
       "    <tr>\n",
       "      <th>231</th>\n",
       "      <td>0.135962</td>\n",
       "      <td>0.0</td>\n",
       "      <td>0.0</td>\n",
       "      <td>0.0</td>\n",
       "      <td>0.0</td>\n",
       "      <td>0.0</td>\n",
       "      <td>0.000000</td>\n",
       "      <td>0.0</td>\n",
       "      <td>0.0</td>\n",
       "      <td>0.0</td>\n",
       "      <td>...</td>\n",
       "      <td>0.0</td>\n",
       "      <td>0.0</td>\n",
       "      <td>0.0</td>\n",
       "      <td>0.0</td>\n",
       "      <td>0.0</td>\n",
       "      <td>0.0</td>\n",
       "      <td>0.0</td>\n",
       "      <td>0.0</td>\n",
       "      <td>0.0</td>\n",
       "      <td>0.0</td>\n",
       "    </tr>\n",
       "    <tr>\n",
       "      <th>232</th>\n",
       "      <td>0.000000</td>\n",
       "      <td>0.0</td>\n",
       "      <td>0.0</td>\n",
       "      <td>0.0</td>\n",
       "      <td>0.0</td>\n",
       "      <td>0.0</td>\n",
       "      <td>0.000000</td>\n",
       "      <td>0.0</td>\n",
       "      <td>0.0</td>\n",
       "      <td>0.0</td>\n",
       "      <td>...</td>\n",
       "      <td>0.0</td>\n",
       "      <td>0.0</td>\n",
       "      <td>0.0</td>\n",
       "      <td>0.0</td>\n",
       "      <td>0.0</td>\n",
       "      <td>0.0</td>\n",
       "      <td>0.0</td>\n",
       "      <td>0.0</td>\n",
       "      <td>0.0</td>\n",
       "      <td>0.0</td>\n",
       "    </tr>\n",
       "    <tr>\n",
       "      <th>233</th>\n",
       "      <td>0.000000</td>\n",
       "      <td>0.0</td>\n",
       "      <td>0.0</td>\n",
       "      <td>0.0</td>\n",
       "      <td>0.0</td>\n",
       "      <td>0.0</td>\n",
       "      <td>0.000000</td>\n",
       "      <td>0.0</td>\n",
       "      <td>0.0</td>\n",
       "      <td>0.0</td>\n",
       "      <td>...</td>\n",
       "      <td>0.0</td>\n",
       "      <td>0.0</td>\n",
       "      <td>0.0</td>\n",
       "      <td>0.0</td>\n",
       "      <td>0.0</td>\n",
       "      <td>0.0</td>\n",
       "      <td>0.0</td>\n",
       "      <td>0.0</td>\n",
       "      <td>0.0</td>\n",
       "      <td>0.0</td>\n",
       "    </tr>\n",
       "    <tr>\n",
       "      <th>234</th>\n",
       "      <td>0.148993</td>\n",
       "      <td>0.0</td>\n",
       "      <td>0.0</td>\n",
       "      <td>0.0</td>\n",
       "      <td>0.0</td>\n",
       "      <td>0.0</td>\n",
       "      <td>0.000000</td>\n",
       "      <td>0.0</td>\n",
       "      <td>0.0</td>\n",
       "      <td>0.0</td>\n",
       "      <td>...</td>\n",
       "      <td>0.0</td>\n",
       "      <td>0.0</td>\n",
       "      <td>0.0</td>\n",
       "      <td>0.0</td>\n",
       "      <td>0.0</td>\n",
       "      <td>0.0</td>\n",
       "      <td>0.0</td>\n",
       "      <td>0.0</td>\n",
       "      <td>0.0</td>\n",
       "      <td>0.0</td>\n",
       "    </tr>\n",
       "    <tr>\n",
       "      <th>235</th>\n",
       "      <td>0.000000</td>\n",
       "      <td>0.0</td>\n",
       "      <td>0.0</td>\n",
       "      <td>0.0</td>\n",
       "      <td>0.0</td>\n",
       "      <td>0.0</td>\n",
       "      <td>0.000000</td>\n",
       "      <td>0.0</td>\n",
       "      <td>0.0</td>\n",
       "      <td>0.0</td>\n",
       "      <td>...</td>\n",
       "      <td>0.0</td>\n",
       "      <td>0.0</td>\n",
       "      <td>0.0</td>\n",
       "      <td>0.0</td>\n",
       "      <td>0.0</td>\n",
       "      <td>0.0</td>\n",
       "      <td>0.0</td>\n",
       "      <td>0.0</td>\n",
       "      <td>0.0</td>\n",
       "      <td>0.0</td>\n",
       "    </tr>\n",
       "  </tbody>\n",
       "</table>\n",
       "<p>236 rows × 1284 columns</p>\n",
       "</div>"
      ],
      "text/plain": [
       "                18  1950  30th  35th   50      7000  accent  accept  accident  \\\n",
       "0    0.000000  0.0   0.0   0.0   0.0  0.0  0.000000     0.0     0.0       0.0   \n",
       "1    0.000000  0.0   0.0   0.0   0.0  0.0  0.000000     0.0     0.0       0.0   \n",
       "2    0.000000  0.0   0.0   0.0   0.0  0.0  0.321919     0.0     0.0       0.0   \n",
       "3    0.000000  0.0   0.0   0.0   0.0  0.0  0.000000     0.0     0.0       0.0   \n",
       "4    0.000000  0.0   0.0   0.0   0.0  0.0  0.000000     0.0     0.0       0.0   \n",
       "..        ...  ...   ...   ...   ...  ...       ...     ...     ...       ...   \n",
       "231  0.135962  0.0   0.0   0.0   0.0  0.0  0.000000     0.0     0.0       0.0   \n",
       "232  0.000000  0.0   0.0   0.0   0.0  0.0  0.000000     0.0     0.0       0.0   \n",
       "233  0.000000  0.0   0.0   0.0   0.0  0.0  0.000000     0.0     0.0       0.0   \n",
       "234  0.148993  0.0   0.0   0.0   0.0  0.0  0.000000     0.0     0.0       0.0   \n",
       "235  0.000000  0.0   0.0   0.0   0.0  0.0  0.000000     0.0     0.0       0.0   \n",
       "\n",
       "     ...  wreak  write  writer  wrong  wrote  year  yeller  yeti  york  \\\n",
       "0    ...    0.0    0.0     0.0    0.0    0.0   0.0     0.0   0.0   0.0   \n",
       "1    ...    0.0    0.0     0.0    0.0    0.0   0.0     0.0   0.0   0.0   \n",
       "2    ...    0.0    0.0     0.0    0.0    0.0   0.0     0.0   0.0   0.0   \n",
       "3    ...    0.0    0.0     0.0    0.0    0.0   0.0     0.0   0.0   0.0   \n",
       "4    ...    0.0    0.0     0.0    0.0    0.0   0.0     0.0   0.0   0.0   \n",
       "..   ...    ...    ...     ...    ...    ...   ...     ...   ...   ...   \n",
       "231  ...    0.0    0.0     0.0    0.0    0.0   0.0     0.0   0.0   0.0   \n",
       "232  ...    0.0    0.0     0.0    0.0    0.0   0.0     0.0   0.0   0.0   \n",
       "233  ...    0.0    0.0     0.0    0.0    0.0   0.0     0.0   0.0   0.0   \n",
       "234  ...    0.0    0.0     0.0    0.0    0.0   0.0     0.0   0.0   0.0   \n",
       "235  ...    0.0    0.0     0.0    0.0    0.0   0.0     0.0   0.0   0.0   \n",
       "\n",
       "     younger  \n",
       "0        0.0  \n",
       "1        0.0  \n",
       "2        0.0  \n",
       "3        0.0  \n",
       "4        0.0  \n",
       "..       ...  \n",
       "231      0.0  \n",
       "232      0.0  \n",
       "233      0.0  \n",
       "234      0.0  \n",
       "235      0.0  \n",
       "\n",
       "[236 rows x 1284 columns]"
      ]
     },
     "execution_count": 8,
     "metadata": {},
     "output_type": "execute_result"
    }
   ],
   "source": [
    "X_tfidf_df = pd.DataFrame(X_tfidf.toarray())\n",
    "X_tfidf_df.columns = tfidf_vect.get_feature_names()\n",
    "X_tfidf_df"
   ]
  },
  {
   "cell_type": "code",
   "execution_count": 9,
   "metadata": {},
   "outputs": [
    {
     "data": {
      "text/html": [
       "<div>\n",
       "<style scoped>\n",
       "    .dataframe tbody tr th:only-of-type {\n",
       "        vertical-align: middle;\n",
       "    }\n",
       "\n",
       "    .dataframe tbody tr th {\n",
       "        vertical-align: top;\n",
       "    }\n",
       "\n",
       "    .dataframe thead th {\n",
       "        text-align: right;\n",
       "    }\n",
       "</style>\n",
       "<table border=\"1\" class=\"dataframe\">\n",
       "  <thead>\n",
       "    <tr style=\"text-align: right;\">\n",
       "      <th></th>\n",
       "      <th>Stars</th>\n",
       "      <th>Votes</th>\n",
       "      <th>0</th>\n",
       "      <th>1</th>\n",
       "      <th>2</th>\n",
       "      <th>3</th>\n",
       "      <th>4</th>\n",
       "      <th>5</th>\n",
       "      <th>6</th>\n",
       "      <th>7</th>\n",
       "      <th>...</th>\n",
       "      <th>1274</th>\n",
       "      <th>1275</th>\n",
       "      <th>1276</th>\n",
       "      <th>1277</th>\n",
       "      <th>1278</th>\n",
       "      <th>1279</th>\n",
       "      <th>1280</th>\n",
       "      <th>1281</th>\n",
       "      <th>1282</th>\n",
       "      <th>1283</th>\n",
       "    </tr>\n",
       "  </thead>\n",
       "  <tbody>\n",
       "    <tr>\n",
       "      <th>0</th>\n",
       "      <td>8.3</td>\n",
       "      <td>7440</td>\n",
       "      <td>0.0</td>\n",
       "      <td>0.0</td>\n",
       "      <td>0.0</td>\n",
       "      <td>0.0</td>\n",
       "      <td>0.0</td>\n",
       "      <td>0.0</td>\n",
       "      <td>0.000000</td>\n",
       "      <td>0.0</td>\n",
       "      <td>...</td>\n",
       "      <td>0.0</td>\n",
       "      <td>0.0</td>\n",
       "      <td>0.0</td>\n",
       "      <td>0.0</td>\n",
       "      <td>0.0</td>\n",
       "      <td>0.0</td>\n",
       "      <td>0.0</td>\n",
       "      <td>0.0</td>\n",
       "      <td>0.0</td>\n",
       "      <td>0.0</td>\n",
       "    </tr>\n",
       "    <tr>\n",
       "      <th>1</th>\n",
       "      <td>8.1</td>\n",
       "      <td>4888</td>\n",
       "      <td>0.0</td>\n",
       "      <td>0.0</td>\n",
       "      <td>0.0</td>\n",
       "      <td>0.0</td>\n",
       "      <td>0.0</td>\n",
       "      <td>0.0</td>\n",
       "      <td>0.000000</td>\n",
       "      <td>0.0</td>\n",
       "      <td>...</td>\n",
       "      <td>0.0</td>\n",
       "      <td>0.0</td>\n",
       "      <td>0.0</td>\n",
       "      <td>0.0</td>\n",
       "      <td>0.0</td>\n",
       "      <td>0.0</td>\n",
       "      <td>0.0</td>\n",
       "      <td>0.0</td>\n",
       "      <td>0.0</td>\n",
       "      <td>0.0</td>\n",
       "    </tr>\n",
       "    <tr>\n",
       "      <th>2</th>\n",
       "      <td>8.2</td>\n",
       "      <td>4605</td>\n",
       "      <td>0.0</td>\n",
       "      <td>0.0</td>\n",
       "      <td>0.0</td>\n",
       "      <td>0.0</td>\n",
       "      <td>0.0</td>\n",
       "      <td>0.0</td>\n",
       "      <td>0.321919</td>\n",
       "      <td>0.0</td>\n",
       "      <td>...</td>\n",
       "      <td>0.0</td>\n",
       "      <td>0.0</td>\n",
       "      <td>0.0</td>\n",
       "      <td>0.0</td>\n",
       "      <td>0.0</td>\n",
       "      <td>0.0</td>\n",
       "      <td>0.0</td>\n",
       "      <td>0.0</td>\n",
       "      <td>0.0</td>\n",
       "      <td>0.0</td>\n",
       "    </tr>\n",
       "    <tr>\n",
       "      <th>3</th>\n",
       "      <td>8.1</td>\n",
       "      <td>4468</td>\n",
       "      <td>0.0</td>\n",
       "      <td>0.0</td>\n",
       "      <td>0.0</td>\n",
       "      <td>0.0</td>\n",
       "      <td>0.0</td>\n",
       "      <td>0.0</td>\n",
       "      <td>0.000000</td>\n",
       "      <td>0.0</td>\n",
       "      <td>...</td>\n",
       "      <td>0.0</td>\n",
       "      <td>0.0</td>\n",
       "      <td>0.0</td>\n",
       "      <td>0.0</td>\n",
       "      <td>0.0</td>\n",
       "      <td>0.0</td>\n",
       "      <td>0.0</td>\n",
       "      <td>0.0</td>\n",
       "      <td>0.0</td>\n",
       "      <td>0.0</td>\n",
       "    </tr>\n",
       "    <tr>\n",
       "      <th>4</th>\n",
       "      <td>8.5</td>\n",
       "      <td>4438</td>\n",
       "      <td>0.0</td>\n",
       "      <td>0.0</td>\n",
       "      <td>0.0</td>\n",
       "      <td>0.0</td>\n",
       "      <td>0.0</td>\n",
       "      <td>0.0</td>\n",
       "      <td>0.000000</td>\n",
       "      <td>0.0</td>\n",
       "      <td>...</td>\n",
       "      <td>0.0</td>\n",
       "      <td>0.0</td>\n",
       "      <td>0.0</td>\n",
       "      <td>0.0</td>\n",
       "      <td>0.0</td>\n",
       "      <td>0.0</td>\n",
       "      <td>0.0</td>\n",
       "      <td>0.0</td>\n",
       "      <td>0.0</td>\n",
       "      <td>0.0</td>\n",
       "    </tr>\n",
       "  </tbody>\n",
       "</table>\n",
       "<p>5 rows × 1286 columns</p>\n",
       "</div>"
      ],
      "text/plain": [
       "   Stars  Votes    0    1    2    3    4    5         6    7  ...  1274  1275  \\\n",
       "0    8.3   7440  0.0  0.0  0.0  0.0  0.0  0.0  0.000000  0.0  ...   0.0   0.0   \n",
       "1    8.1   4888  0.0  0.0  0.0  0.0  0.0  0.0  0.000000  0.0  ...   0.0   0.0   \n",
       "2    8.2   4605  0.0  0.0  0.0  0.0  0.0  0.0  0.321919  0.0  ...   0.0   0.0   \n",
       "3    8.1   4468  0.0  0.0  0.0  0.0  0.0  0.0  0.000000  0.0  ...   0.0   0.0   \n",
       "4    8.5   4438  0.0  0.0  0.0  0.0  0.0  0.0  0.000000  0.0  ...   0.0   0.0   \n",
       "\n",
       "   1276  1277  1278  1279  1280  1281  1282  1283  \n",
       "0   0.0   0.0   0.0   0.0   0.0   0.0   0.0   0.0  \n",
       "1   0.0   0.0   0.0   0.0   0.0   0.0   0.0   0.0  \n",
       "2   0.0   0.0   0.0   0.0   0.0   0.0   0.0   0.0  \n",
       "3   0.0   0.0   0.0   0.0   0.0   0.0   0.0   0.0  \n",
       "4   0.0   0.0   0.0   0.0   0.0   0.0   0.0   0.0  \n",
       "\n",
       "[5 rows x 1286 columns]"
      ]
     },
     "execution_count": 9,
     "metadata": {},
     "output_type": "execute_result"
    }
   ],
   "source": [
    "X_features = pd.concat([Friends['Stars'], Friends['Votes'], pd.DataFrame(X_tfidf.toarray())], axis=1)\n",
    "X_features.head()"
   ]
  },
  {
   "cell_type": "code",
   "execution_count": 10,
   "metadata": {},
   "outputs": [
    {
     "data": {
      "text/plain": [
       "array([0.85416667, 0.72340426, 0.89361702, 1.        , 1.        ])"
      ]
     },
     "execution_count": 10,
     "metadata": {},
     "output_type": "execute_result"
    }
   ],
   "source": [
    "# Test RandomForest Classifier Attributes and Parameters\n",
    "from sklearn.ensemble import RandomForestClassifier\n",
    "from sklearn.model_selection import KFold, cross_val_score\n",
    "rf = RandomForestClassifier(n_jobs=-1)\n",
    "k_fold = KFold(n_splits=5)\n",
    "cross_val_score(rf, X_features, Friends['Gender'], cv=k_fold, scoring='accuracy', n_jobs=-1)"
   ]
  },
  {
   "cell_type": "code",
   "execution_count": 11,
   "metadata": {},
   "outputs": [],
   "source": [
    "# Explore RandomForestClassifier\n",
    "from sklearn.metrics import precision_recall_fscore_support as score\n",
    "from sklearn.model_selection import train_test_split\n",
    "X_train, X_test, y_train, y_test = train_test_split(X_features, Friends['Gender'], test_size=0.2)"
   ]
  },
  {
   "cell_type": "code",
   "execution_count": 12,
   "metadata": {},
   "outputs": [
    {
     "data": {
      "text/plain": [
       "[(0.02060065331750989, 697),\n",
       " (0.0176085365755141, 1111),\n",
       " (0.015611145408068731, 628),\n",
       " (0.014057098487549012, 1099),\n",
       " (0.013960074250807678, 640),\n",
       " (0.013717107209112416, 410),\n",
       " (0.01293175161758845, 384),\n",
       " (0.012490189760587711, 561),\n",
       " (0.01225384311682704, 1044),\n",
       " (0.011838975882131102, 519)]"
      ]
     },
     "execution_count": 12,
     "metadata": {},
     "output_type": "execute_result"
    }
   ],
   "source": [
    "from sklearn.ensemble import RandomForestClassifier\n",
    "rf = RandomForestClassifier(n_estimators=60, max_depth=20, n_jobs=-1)\n",
    "rf_model = rf.fit(X_train, y_train)\n",
    "sorted(zip(rf_model.feature_importances_, X_train.columns), reverse=True)[0:10]"
   ]
  },
  {
   "cell_type": "code",
   "execution_count": 13,
   "metadata": {},
   "outputs": [
    {
     "name": "stdout",
     "output_type": "stream",
     "text": [
      "Precision: 0.803 / Recall: 0.896 / Accuracy: 0.896\n"
     ]
    },
    {
     "name": "stderr",
     "output_type": "stream",
     "text": [
      "C:\\Users\\yingl\\Anaconda3\\lib\\site-packages\\sklearn\\metrics\\classification.py:1259: UserWarning: Note that pos_label (set to 'Female') is ignored when average != 'binary' (got 'weighted'). You may use labels=[pos_label] to specify a single positive class.\n",
      "  % (pos_label, average), UserWarning)\n",
      "C:\\Users\\yingl\\Anaconda3\\lib\\site-packages\\sklearn\\metrics\\classification.py:1437: UndefinedMetricWarning: Precision and F-score are ill-defined and being set to 0.0 in labels with no predicted samples.\n",
      "  'precision', 'predicted', average, warn_for)\n"
     ]
    }
   ],
   "source": [
    "y_pred = rf_model.predict(X_test)\n",
    "precision, recall, fscore, support = score(y_test, y_pred, pos_label='Female', average='weighted')\n",
    "print('Precision: {} / Recall: {} / Accuracy: {}'.format(round(precision, 3),\n",
    "                                                        round(recall, 3),\n",
    "                                                        round((y_pred==y_test).sum() / len(y_pred),3)))"
   ]
  },
  {
   "cell_type": "code",
   "execution_count": 14,
   "metadata": {},
   "outputs": [],
   "source": [
    "# Build Grid-search\n",
    "from sklearn.ensemble import RandomForestClassifier\n",
    "from sklearn.metrics import precision_recall_fscore_support as score\n",
    "from sklearn.model_selection import train_test_split\n",
    "\n",
    "X_train, X_test, y_train, y_test = train_test_split(X_features, Friends['Gender'], test_size=0.2)\n",
    "\n",
    "def train_RF(n_est, depth):\n",
    "    rf = RandomForestClassifier(n_estimators=n_est, max_depth=depth, n_jobs=-1)\n",
    "    rf_model = rf.fit(X_train, y_train)\n",
    "    y_pred = rf_model.predict(X_test)\n",
    "    precision, recall, fscore, support = score(y_test, y_pred, pos_label='Female', average='weighted')\n",
    "    print('Est: {} / Depth: {} ---- Precision: {} / Recall: {} / Accuracy: {}'.format(\n",
    "        n_est, depth, round(precision, 3), round(recall, 3),\n",
    "        round((y_pred==y_test).sum() / len(y_pred), 3)))"
   ]
  },
  {
   "cell_type": "code",
   "execution_count": 15,
   "metadata": {},
   "outputs": [
    {
     "name": "stderr",
     "output_type": "stream",
     "text": [
      "C:\\Users\\yingl\\Anaconda3\\lib\\site-packages\\sklearn\\metrics\\classification.py:1259: UserWarning: Note that pos_label (set to 'Female') is ignored when average != 'binary' (got 'weighted'). You may use labels=[pos_label] to specify a single positive class.\n",
      "  % (pos_label, average), UserWarning)\n",
      "C:\\Users\\yingl\\Anaconda3\\lib\\site-packages\\sklearn\\metrics\\classification.py:1437: UndefinedMetricWarning: Precision and F-score are ill-defined and being set to 0.0 in labels with no predicted samples.\n",
      "  'precision', 'predicted', average, warn_for)\n"
     ]
    },
    {
     "name": "stdout",
     "output_type": "stream",
     "text": [
      "Est: 10 / Depth: 10 ---- Precision: 0.73 / Recall: 0.854 / Accuracy: 0.854\n"
     ]
    },
    {
     "name": "stderr",
     "output_type": "stream",
     "text": [
      "C:\\Users\\yingl\\Anaconda3\\lib\\site-packages\\sklearn\\metrics\\classification.py:1259: UserWarning: Note that pos_label (set to 'Female') is ignored when average != 'binary' (got 'weighted'). You may use labels=[pos_label] to specify a single positive class.\n",
      "  % (pos_label, average), UserWarning)\n",
      "C:\\Users\\yingl\\Anaconda3\\lib\\site-packages\\sklearn\\metrics\\classification.py:1437: UndefinedMetricWarning: Precision and F-score are ill-defined and being set to 0.0 in labels with no predicted samples.\n",
      "  'precision', 'predicted', average, warn_for)\n"
     ]
    },
    {
     "name": "stdout",
     "output_type": "stream",
     "text": [
      "Est: 10 / Depth: 20 ---- Precision: 0.73 / Recall: 0.854 / Accuracy: 0.854\n"
     ]
    },
    {
     "name": "stderr",
     "output_type": "stream",
     "text": [
      "C:\\Users\\yingl\\Anaconda3\\lib\\site-packages\\sklearn\\metrics\\classification.py:1259: UserWarning: Note that pos_label (set to 'Female') is ignored when average != 'binary' (got 'weighted'). You may use labels=[pos_label] to specify a single positive class.\n",
      "  % (pos_label, average), UserWarning)\n",
      "C:\\Users\\yingl\\Anaconda3\\lib\\site-packages\\sklearn\\metrics\\classification.py:1437: UndefinedMetricWarning: Precision and F-score are ill-defined and being set to 0.0 in labels with no predicted samples.\n",
      "  'precision', 'predicted', average, warn_for)\n"
     ]
    },
    {
     "name": "stdout",
     "output_type": "stream",
     "text": [
      "Est: 10 / Depth: 30 ---- Precision: 0.73 / Recall: 0.854 / Accuracy: 0.854\n"
     ]
    },
    {
     "name": "stderr",
     "output_type": "stream",
     "text": [
      "C:\\Users\\yingl\\Anaconda3\\lib\\site-packages\\sklearn\\metrics\\classification.py:1259: UserWarning: Note that pos_label (set to 'Female') is ignored when average != 'binary' (got 'weighted'). You may use labels=[pos_label] to specify a single positive class.\n",
      "  % (pos_label, average), UserWarning)\n",
      "C:\\Users\\yingl\\Anaconda3\\lib\\site-packages\\sklearn\\metrics\\classification.py:1437: UndefinedMetricWarning: Precision and F-score are ill-defined and being set to 0.0 in labels with no predicted samples.\n",
      "  'precision', 'predicted', average, warn_for)\n"
     ]
    },
    {
     "name": "stdout",
     "output_type": "stream",
     "text": [
      "Est: 10 / Depth: None ---- Precision: 0.73 / Recall: 0.854 / Accuracy: 0.854\n"
     ]
    },
    {
     "name": "stderr",
     "output_type": "stream",
     "text": [
      "C:\\Users\\yingl\\Anaconda3\\lib\\site-packages\\sklearn\\metrics\\classification.py:1259: UserWarning: Note that pos_label (set to 'Female') is ignored when average != 'binary' (got 'weighted'). You may use labels=[pos_label] to specify a single positive class.\n",
      "  % (pos_label, average), UserWarning)\n",
      "C:\\Users\\yingl\\Anaconda3\\lib\\site-packages\\sklearn\\metrics\\classification.py:1437: UndefinedMetricWarning: Precision and F-score are ill-defined and being set to 0.0 in labels with no predicted samples.\n",
      "  'precision', 'predicted', average, warn_for)\n"
     ]
    },
    {
     "name": "stdout",
     "output_type": "stream",
     "text": [
      "Est: 50 / Depth: 10 ---- Precision: 0.73 / Recall: 0.854 / Accuracy: 0.854\n"
     ]
    },
    {
     "name": "stderr",
     "output_type": "stream",
     "text": [
      "C:\\Users\\yingl\\Anaconda3\\lib\\site-packages\\sklearn\\metrics\\classification.py:1259: UserWarning: Note that pos_label (set to 'Female') is ignored when average != 'binary' (got 'weighted'). You may use labels=[pos_label] to specify a single positive class.\n",
      "  % (pos_label, average), UserWarning)\n",
      "C:\\Users\\yingl\\Anaconda3\\lib\\site-packages\\sklearn\\metrics\\classification.py:1437: UndefinedMetricWarning: Precision and F-score are ill-defined and being set to 0.0 in labels with no predicted samples.\n",
      "  'precision', 'predicted', average, warn_for)\n"
     ]
    },
    {
     "name": "stdout",
     "output_type": "stream",
     "text": [
      "Est: 50 / Depth: 20 ---- Precision: 0.73 / Recall: 0.854 / Accuracy: 0.854\n"
     ]
    },
    {
     "name": "stderr",
     "output_type": "stream",
     "text": [
      "C:\\Users\\yingl\\Anaconda3\\lib\\site-packages\\sklearn\\metrics\\classification.py:1259: UserWarning: Note that pos_label (set to 'Female') is ignored when average != 'binary' (got 'weighted'). You may use labels=[pos_label] to specify a single positive class.\n",
      "  % (pos_label, average), UserWarning)\n",
      "C:\\Users\\yingl\\Anaconda3\\lib\\site-packages\\sklearn\\metrics\\classification.py:1437: UndefinedMetricWarning: Precision and F-score are ill-defined and being set to 0.0 in labels with no predicted samples.\n",
      "  'precision', 'predicted', average, warn_for)\n"
     ]
    },
    {
     "name": "stdout",
     "output_type": "stream",
     "text": [
      "Est: 50 / Depth: 30 ---- Precision: 0.73 / Recall: 0.854 / Accuracy: 0.854\n"
     ]
    },
    {
     "name": "stderr",
     "output_type": "stream",
     "text": [
      "C:\\Users\\yingl\\Anaconda3\\lib\\site-packages\\sklearn\\metrics\\classification.py:1259: UserWarning: Note that pos_label (set to 'Female') is ignored when average != 'binary' (got 'weighted'). You may use labels=[pos_label] to specify a single positive class.\n",
      "  % (pos_label, average), UserWarning)\n",
      "C:\\Users\\yingl\\Anaconda3\\lib\\site-packages\\sklearn\\metrics\\classification.py:1437: UndefinedMetricWarning: Precision and F-score are ill-defined and being set to 0.0 in labels with no predicted samples.\n",
      "  'precision', 'predicted', average, warn_for)\n"
     ]
    },
    {
     "name": "stdout",
     "output_type": "stream",
     "text": [
      "Est: 50 / Depth: None ---- Precision: 0.73 / Recall: 0.854 / Accuracy: 0.854\n"
     ]
    },
    {
     "name": "stderr",
     "output_type": "stream",
     "text": [
      "C:\\Users\\yingl\\Anaconda3\\lib\\site-packages\\sklearn\\metrics\\classification.py:1259: UserWarning: Note that pos_label (set to 'Female') is ignored when average != 'binary' (got 'weighted'). You may use labels=[pos_label] to specify a single positive class.\n",
      "  % (pos_label, average), UserWarning)\n",
      "C:\\Users\\yingl\\Anaconda3\\lib\\site-packages\\sklearn\\metrics\\classification.py:1437: UndefinedMetricWarning: Precision and F-score are ill-defined and being set to 0.0 in labels with no predicted samples.\n",
      "  'precision', 'predicted', average, warn_for)\n"
     ]
    },
    {
     "name": "stdout",
     "output_type": "stream",
     "text": [
      "Est: 100 / Depth: 10 ---- Precision: 0.73 / Recall: 0.854 / Accuracy: 0.854\n"
     ]
    },
    {
     "name": "stderr",
     "output_type": "stream",
     "text": [
      "C:\\Users\\yingl\\Anaconda3\\lib\\site-packages\\sklearn\\metrics\\classification.py:1259: UserWarning: Note that pos_label (set to 'Female') is ignored when average != 'binary' (got 'weighted'). You may use labels=[pos_label] to specify a single positive class.\n",
      "  % (pos_label, average), UserWarning)\n",
      "C:\\Users\\yingl\\Anaconda3\\lib\\site-packages\\sklearn\\metrics\\classification.py:1437: UndefinedMetricWarning: Precision and F-score are ill-defined and being set to 0.0 in labels with no predicted samples.\n",
      "  'precision', 'predicted', average, warn_for)\n"
     ]
    },
    {
     "name": "stdout",
     "output_type": "stream",
     "text": [
      "Est: 100 / Depth: 20 ---- Precision: 0.73 / Recall: 0.854 / Accuracy: 0.854\n"
     ]
    },
    {
     "name": "stderr",
     "output_type": "stream",
     "text": [
      "C:\\Users\\yingl\\Anaconda3\\lib\\site-packages\\sklearn\\metrics\\classification.py:1259: UserWarning: Note that pos_label (set to 'Female') is ignored when average != 'binary' (got 'weighted'). You may use labels=[pos_label] to specify a single positive class.\n",
      "  % (pos_label, average), UserWarning)\n",
      "C:\\Users\\yingl\\Anaconda3\\lib\\site-packages\\sklearn\\metrics\\classification.py:1437: UndefinedMetricWarning: Precision and F-score are ill-defined and being set to 0.0 in labels with no predicted samples.\n",
      "  'precision', 'predicted', average, warn_for)\n"
     ]
    },
    {
     "name": "stdout",
     "output_type": "stream",
     "text": [
      "Est: 100 / Depth: 30 ---- Precision: 0.73 / Recall: 0.854 / Accuracy: 0.854\n"
     ]
    },
    {
     "name": "stderr",
     "output_type": "stream",
     "text": [
      "C:\\Users\\yingl\\Anaconda3\\lib\\site-packages\\sklearn\\metrics\\classification.py:1259: UserWarning: Note that pos_label (set to 'Female') is ignored when average != 'binary' (got 'weighted'). You may use labels=[pos_label] to specify a single positive class.\n",
      "  % (pos_label, average), UserWarning)\n",
      "C:\\Users\\yingl\\Anaconda3\\lib\\site-packages\\sklearn\\metrics\\classification.py:1437: UndefinedMetricWarning: Precision and F-score are ill-defined and being set to 0.0 in labels with no predicted samples.\n",
      "  'precision', 'predicted', average, warn_for)\n"
     ]
    },
    {
     "name": "stdout",
     "output_type": "stream",
     "text": [
      "Est: 100 / Depth: None ---- Precision: 0.73 / Recall: 0.854 / Accuracy: 0.854\n"
     ]
    },
    {
     "name": "stderr",
     "output_type": "stream",
     "text": [
      "C:\\Users\\yingl\\Anaconda3\\lib\\site-packages\\sklearn\\metrics\\classification.py:1259: UserWarning: Note that pos_label (set to 'Female') is ignored when average != 'binary' (got 'weighted'). You may use labels=[pos_label] to specify a single positive class.\n",
      "  % (pos_label, average), UserWarning)\n",
      "C:\\Users\\yingl\\Anaconda3\\lib\\site-packages\\sklearn\\metrics\\classification.py:1437: UndefinedMetricWarning: Precision and F-score are ill-defined and being set to 0.0 in labels with no predicted samples.\n",
      "  'precision', 'predicted', average, warn_for)\n"
     ]
    },
    {
     "name": "stdout",
     "output_type": "stream",
     "text": [
      "Est: 150 / Depth: 10 ---- Precision: 0.73 / Recall: 0.854 / Accuracy: 0.854\n"
     ]
    },
    {
     "name": "stderr",
     "output_type": "stream",
     "text": [
      "C:\\Users\\yingl\\Anaconda3\\lib\\site-packages\\sklearn\\metrics\\classification.py:1259: UserWarning: Note that pos_label (set to 'Female') is ignored when average != 'binary' (got 'weighted'). You may use labels=[pos_label] to specify a single positive class.\n",
      "  % (pos_label, average), UserWarning)\n",
      "C:\\Users\\yingl\\Anaconda3\\lib\\site-packages\\sklearn\\metrics\\classification.py:1437: UndefinedMetricWarning: Precision and F-score are ill-defined and being set to 0.0 in labels with no predicted samples.\n",
      "  'precision', 'predicted', average, warn_for)\n"
     ]
    },
    {
     "name": "stdout",
     "output_type": "stream",
     "text": [
      "Est: 150 / Depth: 20 ---- Precision: 0.73 / Recall: 0.854 / Accuracy: 0.854\n"
     ]
    },
    {
     "name": "stderr",
     "output_type": "stream",
     "text": [
      "C:\\Users\\yingl\\Anaconda3\\lib\\site-packages\\sklearn\\metrics\\classification.py:1259: UserWarning: Note that pos_label (set to 'Female') is ignored when average != 'binary' (got 'weighted'). You may use labels=[pos_label] to specify a single positive class.\n",
      "  % (pos_label, average), UserWarning)\n",
      "C:\\Users\\yingl\\Anaconda3\\lib\\site-packages\\sklearn\\metrics\\classification.py:1437: UndefinedMetricWarning: Precision and F-score are ill-defined and being set to 0.0 in labels with no predicted samples.\n",
      "  'precision', 'predicted', average, warn_for)\n"
     ]
    },
    {
     "name": "stdout",
     "output_type": "stream",
     "text": [
      "Est: 150 / Depth: 30 ---- Precision: 0.73 / Recall: 0.854 / Accuracy: 0.854\n",
      "Est: 150 / Depth: None ---- Precision: 0.73 / Recall: 0.854 / Accuracy: 0.854\n"
     ]
    },
    {
     "name": "stderr",
     "output_type": "stream",
     "text": [
      "C:\\Users\\yingl\\Anaconda3\\lib\\site-packages\\sklearn\\metrics\\classification.py:1259: UserWarning: Note that pos_label (set to 'Female') is ignored when average != 'binary' (got 'weighted'). You may use labels=[pos_label] to specify a single positive class.\n",
      "  % (pos_label, average), UserWarning)\n",
      "C:\\Users\\yingl\\Anaconda3\\lib\\site-packages\\sklearn\\metrics\\classification.py:1437: UndefinedMetricWarning: Precision and F-score are ill-defined and being set to 0.0 in labels with no predicted samples.\n",
      "  'precision', 'predicted', average, warn_for)\n"
     ]
    }
   ],
   "source": [
    "for n_est in [10, 50, 100, 150]:\n",
    "    for depth in [10, 20, 30, None]:\n",
    "        train_RF(n_est, depth)"
   ]
  },
  {
   "cell_type": "code",
   "execution_count": 16,
   "metadata": {},
   "outputs": [],
   "source": [
    "# Explore Gradient Boosting model with grid-search - Exhaustively search all parameter combinations in a given grid to determine the best model.\n",
    "\n",
    "from sklearn.ensemble import GradientBoostingClassifier\n",
    "from sklearn.metrics import precision_recall_fscore_support as score\n",
    "from sklearn.model_selection import train_test_split\n",
    "\n",
    "X_train, X_test, y_train, y_test = train_test_split(X_features, Friends['Gender'], test_size=0.2)\n",
    "\n",
    "def train_GB(est, max_depth, lr):\n",
    "    gb = GradientBoostingClassifier(n_estimators=est, max_depth=max_depth, learning_rate=lr)\n",
    "    gb_model = gb.fit(X_train, y_train)\n",
    "    y_pred = gb_model.predict(X_test)\n",
    "    precision, recall, fscore, train_support = score(y_test, y_pred, pos_label='Female', average='weighted')\n",
    "    print('Est: {} / Depth: {} / LR: {} ---- Precision: {} / Recall: {} / Accuracy: {}'.format(\n",
    "        est, max_depth, lr, round(precision, 3), round(recall, 3), \n",
    "        round((y_pred==y_test).sum()/len(y_pred), 3)))"
   ]
  },
  {
   "cell_type": "code",
   "execution_count": 17,
   "metadata": {},
   "outputs": [
    {
     "name": "stderr",
     "output_type": "stream",
     "text": [
      "C:\\Users\\yingl\\Anaconda3\\lib\\site-packages\\sklearn\\metrics\\classification.py:1259: UserWarning: Note that pos_label (set to 'Female') is ignored when average != 'binary' (got 'weighted'). You may use labels=[pos_label] to specify a single positive class.\n",
      "  % (pos_label, average), UserWarning)\n",
      "C:\\Users\\yingl\\Anaconda3\\lib\\site-packages\\sklearn\\metrics\\classification.py:1437: UndefinedMetricWarning: Precision and F-score are ill-defined and being set to 0.0 in labels with no predicted samples.\n",
      "  'precision', 'predicted', average, warn_for)\n",
      "C:\\Users\\yingl\\Anaconda3\\lib\\site-packages\\sklearn\\metrics\\classification.py:1259: UserWarning: Note that pos_label (set to 'Female') is ignored when average != 'binary' (got 'weighted'). You may use labels=[pos_label] to specify a single positive class.\n",
      "  % (pos_label, average), UserWarning)\n"
     ]
    },
    {
     "name": "stdout",
     "output_type": "stream",
     "text": [
      "Est: 50 / Depth: 3 / LR: 0.01 ---- Precision: 0.766 / Recall: 0.875 / Accuracy: 0.875\n",
      "Est: 50 / Depth: 3 / LR: 0.1 ---- Precision: 0.763 / Recall: 0.854 / Accuracy: 0.854\n"
     ]
    },
    {
     "name": "stderr",
     "output_type": "stream",
     "text": [
      "C:\\Users\\yingl\\Anaconda3\\lib\\site-packages\\sklearn\\metrics\\classification.py:1259: UserWarning: Note that pos_label (set to 'Female') is ignored when average != 'binary' (got 'weighted'). You may use labels=[pos_label] to specify a single positive class.\n",
      "  % (pos_label, average), UserWarning)\n"
     ]
    },
    {
     "name": "stdout",
     "output_type": "stream",
     "text": [
      "Est: 50 / Depth: 3 / LR: 1 ---- Precision: 0.763 / Recall: 0.854 / Accuracy: 0.854\n"
     ]
    },
    {
     "name": "stderr",
     "output_type": "stream",
     "text": [
      "C:\\Users\\yingl\\Anaconda3\\lib\\site-packages\\sklearn\\metrics\\classification.py:1259: UserWarning: Note that pos_label (set to 'Female') is ignored when average != 'binary' (got 'weighted'). You may use labels=[pos_label] to specify a single positive class.\n",
      "  % (pos_label, average), UserWarning)\n",
      "C:\\Users\\yingl\\Anaconda3\\lib\\site-packages\\sklearn\\metrics\\classification.py:1437: UndefinedMetricWarning: Precision and F-score are ill-defined and being set to 0.0 in labels with no predicted samples.\n",
      "  'precision', 'predicted', average, warn_for)\n"
     ]
    },
    {
     "name": "stdout",
     "output_type": "stream",
     "text": [
      "Est: 50 / Depth: 7 / LR: 0.01 ---- Precision: 0.766 / Recall: 0.875 / Accuracy: 0.875\n"
     ]
    },
    {
     "name": "stderr",
     "output_type": "stream",
     "text": [
      "C:\\Users\\yingl\\Anaconda3\\lib\\site-packages\\sklearn\\metrics\\classification.py:1259: UserWarning: Note that pos_label (set to 'Female') is ignored when average != 'binary' (got 'weighted'). You may use labels=[pos_label] to specify a single positive class.\n",
      "  % (pos_label, average), UserWarning)\n",
      "C:\\Users\\yingl\\Anaconda3\\lib\\site-packages\\sklearn\\metrics\\classification.py:1259: UserWarning: Note that pos_label (set to 'Female') is ignored when average != 'binary' (got 'weighted'). You may use labels=[pos_label] to specify a single positive class.\n",
      "  % (pos_label, average), UserWarning)\n"
     ]
    },
    {
     "name": "stdout",
     "output_type": "stream",
     "text": [
      "Est: 50 / Depth: 7 / LR: 0.1 ---- Precision: 0.763 / Recall: 0.854 / Accuracy: 0.854\n",
      "Est: 50 / Depth: 7 / LR: 1 ---- Precision: 0.763 / Recall: 0.854 / Accuracy: 0.854\n"
     ]
    },
    {
     "name": "stderr",
     "output_type": "stream",
     "text": [
      "C:\\Users\\yingl\\Anaconda3\\lib\\site-packages\\sklearn\\metrics\\classification.py:1259: UserWarning: Note that pos_label (set to 'Female') is ignored when average != 'binary' (got 'weighted'). You may use labels=[pos_label] to specify a single positive class.\n",
      "  % (pos_label, average), UserWarning)\n",
      "C:\\Users\\yingl\\Anaconda3\\lib\\site-packages\\sklearn\\metrics\\classification.py:1437: UndefinedMetricWarning: Precision and F-score are ill-defined and being set to 0.0 in labels with no predicted samples.\n",
      "  'precision', 'predicted', average, warn_for)\n"
     ]
    },
    {
     "name": "stdout",
     "output_type": "stream",
     "text": [
      "Est: 50 / Depth: 11 / LR: 0.01 ---- Precision: 0.766 / Recall: 0.875 / Accuracy: 0.875\n"
     ]
    },
    {
     "name": "stderr",
     "output_type": "stream",
     "text": [
      "C:\\Users\\yingl\\Anaconda3\\lib\\site-packages\\sklearn\\metrics\\classification.py:1259: UserWarning: Note that pos_label (set to 'Female') is ignored when average != 'binary' (got 'weighted'). You may use labels=[pos_label] to specify a single positive class.\n",
      "  % (pos_label, average), UserWarning)\n",
      "C:\\Users\\yingl\\Anaconda3\\lib\\site-packages\\sklearn\\metrics\\classification.py:1259: UserWarning: Note that pos_label (set to 'Female') is ignored when average != 'binary' (got 'weighted'). You may use labels=[pos_label] to specify a single positive class.\n",
      "  % (pos_label, average), UserWarning)\n",
      "C:\\Users\\yingl\\Anaconda3\\lib\\site-packages\\sklearn\\metrics\\classification.py:1437: UndefinedMetricWarning: Precision and F-score are ill-defined and being set to 0.0 in labels with no predicted samples.\n",
      "  'precision', 'predicted', average, warn_for)\n"
     ]
    },
    {
     "name": "stdout",
     "output_type": "stream",
     "text": [
      "Est: 50 / Depth: 11 / LR: 0.1 ---- Precision: 0.763 / Recall: 0.854 / Accuracy: 0.854\n",
      "Est: 50 / Depth: 11 / LR: 1 ---- Precision: 0.766 / Recall: 0.875 / Accuracy: 0.875\n"
     ]
    },
    {
     "name": "stderr",
     "output_type": "stream",
     "text": [
      "C:\\Users\\yingl\\Anaconda3\\lib\\site-packages\\sklearn\\metrics\\classification.py:1259: UserWarning: Note that pos_label (set to 'Female') is ignored when average != 'binary' (got 'weighted'). You may use labels=[pos_label] to specify a single positive class.\n",
      "  % (pos_label, average), UserWarning)\n",
      "C:\\Users\\yingl\\Anaconda3\\lib\\site-packages\\sklearn\\metrics\\classification.py:1437: UndefinedMetricWarning: Precision and F-score are ill-defined and being set to 0.0 in labels with no predicted samples.\n",
      "  'precision', 'predicted', average, warn_for)\n"
     ]
    },
    {
     "name": "stdout",
     "output_type": "stream",
     "text": [
      "Est: 50 / Depth: 15 / LR: 0.01 ---- Precision: 0.766 / Recall: 0.875 / Accuracy: 0.875\n"
     ]
    },
    {
     "name": "stderr",
     "output_type": "stream",
     "text": [
      "C:\\Users\\yingl\\Anaconda3\\lib\\site-packages\\sklearn\\metrics\\classification.py:1259: UserWarning: Note that pos_label (set to 'Female') is ignored when average != 'binary' (got 'weighted'). You may use labels=[pos_label] to specify a single positive class.\n",
      "  % (pos_label, average), UserWarning)\n",
      "C:\\Users\\yingl\\Anaconda3\\lib\\site-packages\\sklearn\\metrics\\classification.py:1259: UserWarning: Note that pos_label (set to 'Female') is ignored when average != 'binary' (got 'weighted'). You may use labels=[pos_label] to specify a single positive class.\n",
      "  % (pos_label, average), UserWarning)\n"
     ]
    },
    {
     "name": "stdout",
     "output_type": "stream",
     "text": [
      "Est: 50 / Depth: 15 / LR: 0.1 ---- Precision: 0.763 / Recall: 0.854 / Accuracy: 0.854\n",
      "Est: 50 / Depth: 15 / LR: 1 ---- Precision: 0.763 / Recall: 0.854 / Accuracy: 0.854\n"
     ]
    },
    {
     "name": "stderr",
     "output_type": "stream",
     "text": [
      "C:\\Users\\yingl\\Anaconda3\\lib\\site-packages\\sklearn\\metrics\\classification.py:1259: UserWarning: Note that pos_label (set to 'Female') is ignored when average != 'binary' (got 'weighted'). You may use labels=[pos_label] to specify a single positive class.\n",
      "  % (pos_label, average), UserWarning)\n",
      "C:\\Users\\yingl\\Anaconda3\\lib\\site-packages\\sklearn\\metrics\\classification.py:1437: UndefinedMetricWarning: Precision and F-score are ill-defined and being set to 0.0 in labels with no predicted samples.\n",
      "  'precision', 'predicted', average, warn_for)\n"
     ]
    },
    {
     "name": "stdout",
     "output_type": "stream",
     "text": [
      "Est: 100 / Depth: 3 / LR: 0.01 ---- Precision: 0.766 / Recall: 0.875 / Accuracy: 0.875\n"
     ]
    },
    {
     "name": "stderr",
     "output_type": "stream",
     "text": [
      "C:\\Users\\yingl\\Anaconda3\\lib\\site-packages\\sklearn\\metrics\\classification.py:1259: UserWarning: Note that pos_label (set to 'Female') is ignored when average != 'binary' (got 'weighted'). You may use labels=[pos_label] to specify a single positive class.\n",
      "  % (pos_label, average), UserWarning)\n",
      "C:\\Users\\yingl\\Anaconda3\\lib\\site-packages\\sklearn\\metrics\\classification.py:1259: UserWarning: Note that pos_label (set to 'Female') is ignored when average != 'binary' (got 'weighted'). You may use labels=[pos_label] to specify a single positive class.\n",
      "  % (pos_label, average), UserWarning)\n"
     ]
    },
    {
     "name": "stdout",
     "output_type": "stream",
     "text": [
      "Est: 100 / Depth: 3 / LR: 0.1 ---- Precision: 0.763 / Recall: 0.854 / Accuracy: 0.854\n",
      "Est: 100 / Depth: 3 / LR: 1 ---- Precision: 0.763 / Recall: 0.854 / Accuracy: 0.854\n"
     ]
    },
    {
     "name": "stderr",
     "output_type": "stream",
     "text": [
      "C:\\Users\\yingl\\Anaconda3\\lib\\site-packages\\sklearn\\metrics\\classification.py:1259: UserWarning: Note that pos_label (set to 'Female') is ignored when average != 'binary' (got 'weighted'). You may use labels=[pos_label] to specify a single positive class.\n",
      "  % (pos_label, average), UserWarning)\n"
     ]
    },
    {
     "name": "stdout",
     "output_type": "stream",
     "text": [
      "Est: 100 / Depth: 7 / LR: 0.01 ---- Precision: 0.763 / Recall: 0.854 / Accuracy: 0.854\n"
     ]
    },
    {
     "name": "stderr",
     "output_type": "stream",
     "text": [
      "C:\\Users\\yingl\\Anaconda3\\lib\\site-packages\\sklearn\\metrics\\classification.py:1259: UserWarning: Note that pos_label (set to 'Female') is ignored when average != 'binary' (got 'weighted'). You may use labels=[pos_label] to specify a single positive class.\n",
      "  % (pos_label, average), UserWarning)\n",
      "C:\\Users\\yingl\\Anaconda3\\lib\\site-packages\\sklearn\\metrics\\classification.py:1259: UserWarning: Note that pos_label (set to 'Female') is ignored when average != 'binary' (got 'weighted'). You may use labels=[pos_label] to specify a single positive class.\n",
      "  % (pos_label, average), UserWarning)\n"
     ]
    },
    {
     "name": "stdout",
     "output_type": "stream",
     "text": [
      "Est: 100 / Depth: 7 / LR: 0.1 ---- Precision: 0.763 / Recall: 0.854 / Accuracy: 0.854\n",
      "Est: 100 / Depth: 7 / LR: 1 ---- Precision: 0.763 / Recall: 0.854 / Accuracy: 0.854\n"
     ]
    },
    {
     "name": "stderr",
     "output_type": "stream",
     "text": [
      "C:\\Users\\yingl\\Anaconda3\\lib\\site-packages\\sklearn\\metrics\\classification.py:1259: UserWarning: Note that pos_label (set to 'Female') is ignored when average != 'binary' (got 'weighted'). You may use labels=[pos_label] to specify a single positive class.\n",
      "  % (pos_label, average), UserWarning)\n"
     ]
    },
    {
     "name": "stdout",
     "output_type": "stream",
     "text": [
      "Est: 100 / Depth: 11 / LR: 0.01 ---- Precision: 0.763 / Recall: 0.854 / Accuracy: 0.854\n"
     ]
    },
    {
     "name": "stderr",
     "output_type": "stream",
     "text": [
      "C:\\Users\\yingl\\Anaconda3\\lib\\site-packages\\sklearn\\metrics\\classification.py:1259: UserWarning: Note that pos_label (set to 'Female') is ignored when average != 'binary' (got 'weighted'). You may use labels=[pos_label] to specify a single positive class.\n",
      "  % (pos_label, average), UserWarning)\n",
      "C:\\Users\\yingl\\Anaconda3\\lib\\site-packages\\sklearn\\metrics\\classification.py:1259: UserWarning: Note that pos_label (set to 'Female') is ignored when average != 'binary' (got 'weighted'). You may use labels=[pos_label] to specify a single positive class.\n",
      "  % (pos_label, average), UserWarning)\n"
     ]
    },
    {
     "name": "stdout",
     "output_type": "stream",
     "text": [
      "Est: 100 / Depth: 11 / LR: 0.1 ---- Precision: 0.763 / Recall: 0.854 / Accuracy: 0.854\n",
      "Est: 100 / Depth: 11 / LR: 1 ---- Precision: 0.763 / Recall: 0.854 / Accuracy: 0.854\n"
     ]
    },
    {
     "name": "stderr",
     "output_type": "stream",
     "text": [
      "C:\\Users\\yingl\\Anaconda3\\lib\\site-packages\\sklearn\\metrics\\classification.py:1259: UserWarning: Note that pos_label (set to 'Female') is ignored when average != 'binary' (got 'weighted'). You may use labels=[pos_label] to specify a single positive class.\n",
      "  % (pos_label, average), UserWarning)\n"
     ]
    },
    {
     "name": "stdout",
     "output_type": "stream",
     "text": [
      "Est: 100 / Depth: 15 / LR: 0.01 ---- Precision: 0.763 / Recall: 0.854 / Accuracy: 0.854\n"
     ]
    },
    {
     "name": "stderr",
     "output_type": "stream",
     "text": [
      "C:\\Users\\yingl\\Anaconda3\\lib\\site-packages\\sklearn\\metrics\\classification.py:1259: UserWarning: Note that pos_label (set to 'Female') is ignored when average != 'binary' (got 'weighted'). You may use labels=[pos_label] to specify a single positive class.\n",
      "  % (pos_label, average), UserWarning)\n",
      "C:\\Users\\yingl\\Anaconda3\\lib\\site-packages\\sklearn\\metrics\\classification.py:1259: UserWarning: Note that pos_label (set to 'Female') is ignored when average != 'binary' (got 'weighted'). You may use labels=[pos_label] to specify a single positive class.\n",
      "  % (pos_label, average), UserWarning)\n"
     ]
    },
    {
     "name": "stdout",
     "output_type": "stream",
     "text": [
      "Est: 100 / Depth: 15 / LR: 0.1 ---- Precision: 0.763 / Recall: 0.854 / Accuracy: 0.854\n",
      "Est: 100 / Depth: 15 / LR: 1 ---- Precision: 0.763 / Recall: 0.854 / Accuracy: 0.854\n"
     ]
    },
    {
     "name": "stderr",
     "output_type": "stream",
     "text": [
      "C:\\Users\\yingl\\Anaconda3\\lib\\site-packages\\sklearn\\metrics\\classification.py:1259: UserWarning: Note that pos_label (set to 'Female') is ignored when average != 'binary' (got 'weighted'). You may use labels=[pos_label] to specify a single positive class.\n",
      "  % (pos_label, average), UserWarning)\n",
      "C:\\Users\\yingl\\Anaconda3\\lib\\site-packages\\sklearn\\metrics\\classification.py:1437: UndefinedMetricWarning: Precision and F-score are ill-defined and being set to 0.0 in labels with no predicted samples.\n",
      "  'precision', 'predicted', average, warn_for)\n"
     ]
    },
    {
     "name": "stdout",
     "output_type": "stream",
     "text": [
      "Est: 150 / Depth: 3 / LR: 0.01 ---- Precision: 0.766 / Recall: 0.875 / Accuracy: 0.875\n"
     ]
    },
    {
     "name": "stderr",
     "output_type": "stream",
     "text": [
      "C:\\Users\\yingl\\Anaconda3\\lib\\site-packages\\sklearn\\metrics\\classification.py:1259: UserWarning: Note that pos_label (set to 'Female') is ignored when average != 'binary' (got 'weighted'). You may use labels=[pos_label] to specify a single positive class.\n",
      "  % (pos_label, average), UserWarning)\n",
      "C:\\Users\\yingl\\Anaconda3\\lib\\site-packages\\sklearn\\metrics\\classification.py:1259: UserWarning: Note that pos_label (set to 'Female') is ignored when average != 'binary' (got 'weighted'). You may use labels=[pos_label] to specify a single positive class.\n",
      "  % (pos_label, average), UserWarning)\n"
     ]
    },
    {
     "name": "stdout",
     "output_type": "stream",
     "text": [
      "Est: 150 / Depth: 3 / LR: 0.1 ---- Precision: 0.763 / Recall: 0.854 / Accuracy: 0.854\n",
      "Est: 150 / Depth: 3 / LR: 1 ---- Precision: 0.763 / Recall: 0.854 / Accuracy: 0.854\n"
     ]
    },
    {
     "name": "stderr",
     "output_type": "stream",
     "text": [
      "C:\\Users\\yingl\\Anaconda3\\lib\\site-packages\\sklearn\\metrics\\classification.py:1259: UserWarning: Note that pos_label (set to 'Female') is ignored when average != 'binary' (got 'weighted'). You may use labels=[pos_label] to specify a single positive class.\n",
      "  % (pos_label, average), UserWarning)\n"
     ]
    },
    {
     "name": "stdout",
     "output_type": "stream",
     "text": [
      "Est: 150 / Depth: 7 / LR: 0.01 ---- Precision: 0.763 / Recall: 0.854 / Accuracy: 0.854\n"
     ]
    },
    {
     "name": "stderr",
     "output_type": "stream",
     "text": [
      "C:\\Users\\yingl\\Anaconda3\\lib\\site-packages\\sklearn\\metrics\\classification.py:1259: UserWarning: Note that pos_label (set to 'Female') is ignored when average != 'binary' (got 'weighted'). You may use labels=[pos_label] to specify a single positive class.\n",
      "  % (pos_label, average), UserWarning)\n",
      "C:\\Users\\yingl\\Anaconda3\\lib\\site-packages\\sklearn\\metrics\\classification.py:1259: UserWarning: Note that pos_label (set to 'Female') is ignored when average != 'binary' (got 'weighted'). You may use labels=[pos_label] to specify a single positive class.\n",
      "  % (pos_label, average), UserWarning)\n"
     ]
    },
    {
     "name": "stdout",
     "output_type": "stream",
     "text": [
      "Est: 150 / Depth: 7 / LR: 0.1 ---- Precision: 0.763 / Recall: 0.854 / Accuracy: 0.854\n",
      "Est: 150 / Depth: 7 / LR: 1 ---- Precision: 0.763 / Recall: 0.854 / Accuracy: 0.854\n"
     ]
    },
    {
     "name": "stderr",
     "output_type": "stream",
     "text": [
      "C:\\Users\\yingl\\Anaconda3\\lib\\site-packages\\sklearn\\metrics\\classification.py:1259: UserWarning: Note that pos_label (set to 'Female') is ignored when average != 'binary' (got 'weighted'). You may use labels=[pos_label] to specify a single positive class.\n",
      "  % (pos_label, average), UserWarning)\n"
     ]
    },
    {
     "name": "stdout",
     "output_type": "stream",
     "text": [
      "Est: 150 / Depth: 11 / LR: 0.01 ---- Precision: 0.763 / Recall: 0.854 / Accuracy: 0.854\n"
     ]
    },
    {
     "name": "stderr",
     "output_type": "stream",
     "text": [
      "C:\\Users\\yingl\\Anaconda3\\lib\\site-packages\\sklearn\\metrics\\classification.py:1259: UserWarning: Note that pos_label (set to 'Female') is ignored when average != 'binary' (got 'weighted'). You may use labels=[pos_label] to specify a single positive class.\n",
      "  % (pos_label, average), UserWarning)\n",
      "C:\\Users\\yingl\\Anaconda3\\lib\\site-packages\\sklearn\\metrics\\classification.py:1259: UserWarning: Note that pos_label (set to 'Female') is ignored when average != 'binary' (got 'weighted'). You may use labels=[pos_label] to specify a single positive class.\n",
      "  % (pos_label, average), UserWarning)\n"
     ]
    },
    {
     "name": "stdout",
     "output_type": "stream",
     "text": [
      "Est: 150 / Depth: 11 / LR: 0.1 ---- Precision: 0.763 / Recall: 0.854 / Accuracy: 0.854\n",
      "Est: 150 / Depth: 11 / LR: 1 ---- Precision: 0.763 / Recall: 0.854 / Accuracy: 0.854\n"
     ]
    },
    {
     "name": "stderr",
     "output_type": "stream",
     "text": [
      "C:\\Users\\yingl\\Anaconda3\\lib\\site-packages\\sklearn\\metrics\\classification.py:1259: UserWarning: Note that pos_label (set to 'Female') is ignored when average != 'binary' (got 'weighted'). You may use labels=[pos_label] to specify a single positive class.\n",
      "  % (pos_label, average), UserWarning)\n"
     ]
    },
    {
     "name": "stdout",
     "output_type": "stream",
     "text": [
      "Est: 150 / Depth: 15 / LR: 0.01 ---- Precision: 0.763 / Recall: 0.854 / Accuracy: 0.854\n",
      "Est: 150 / Depth: 15 / LR: 0.1 ---- Precision: 0.763 / Recall: 0.854 / Accuracy: 0.854\n",
      "Est: 150 / Depth: 15 / LR: 1 ---- Precision: 0.763 / Recall: 0.854 / Accuracy: 0.854\n"
     ]
    },
    {
     "name": "stderr",
     "output_type": "stream",
     "text": [
      "C:\\Users\\yingl\\Anaconda3\\lib\\site-packages\\sklearn\\metrics\\classification.py:1259: UserWarning: Note that pos_label (set to 'Female') is ignored when average != 'binary' (got 'weighted'). You may use labels=[pos_label] to specify a single positive class.\n",
      "  % (pos_label, average), UserWarning)\n",
      "C:\\Users\\yingl\\Anaconda3\\lib\\site-packages\\sklearn\\metrics\\classification.py:1259: UserWarning: Note that pos_label (set to 'Female') is ignored when average != 'binary' (got 'weighted'). You may use labels=[pos_label] to specify a single positive class.\n",
      "  % (pos_label, average), UserWarning)\n"
     ]
    }
   ],
   "source": [
    "for n_est in [50, 100, 150]:\n",
    "    for max_depth in [3, 7, 11, 15]:\n",
    "        for lr in [0.01, 0.1, 1]:\n",
    "            train_GB(n_est, max_depth, lr)"
   ]
  },
  {
   "cell_type": "code",
   "execution_count": 18,
   "metadata": {},
   "outputs": [],
   "source": [
    "# Model selection\n",
    "from sklearn.model_selection import train_test_split\n",
    "X_train, X_test, y_train, y_test = train_test_split(Friends[['Summary', 'Stars', 'Votes']], Friends['Gender'], test_size=0.2)"
   ]
  },
  {
   "cell_type": "code",
   "execution_count": 19,
   "metadata": {},
   "outputs": [
    {
     "data": {
      "text/html": [
       "<div>\n",
       "<style scoped>\n",
       "    .dataframe tbody tr th:only-of-type {\n",
       "        vertical-align: middle;\n",
       "    }\n",
       "\n",
       "    .dataframe tbody tr th {\n",
       "        vertical-align: top;\n",
       "    }\n",
       "\n",
       "    .dataframe thead th {\n",
       "        text-align: right;\n",
       "    }\n",
       "</style>\n",
       "<table border=\"1\" class=\"dataframe\">\n",
       "  <thead>\n",
       "    <tr style=\"text-align: right;\">\n",
       "      <th></th>\n",
       "      <th>Stars</th>\n",
       "      <th>Votes</th>\n",
       "      <th>0</th>\n",
       "      <th>1</th>\n",
       "      <th>2</th>\n",
       "      <th>3</th>\n",
       "      <th>4</th>\n",
       "      <th>5</th>\n",
       "      <th>6</th>\n",
       "      <th>7</th>\n",
       "      <th>...</th>\n",
       "      <th>1103</th>\n",
       "      <th>1104</th>\n",
       "      <th>1105</th>\n",
       "      <th>1106</th>\n",
       "      <th>1107</th>\n",
       "      <th>1108</th>\n",
       "      <th>1109</th>\n",
       "      <th>1110</th>\n",
       "      <th>1111</th>\n",
       "      <th>1112</th>\n",
       "    </tr>\n",
       "  </thead>\n",
       "  <tbody>\n",
       "    <tr>\n",
       "      <th>0</th>\n",
       "      <td>8.6</td>\n",
       "      <td>2860</td>\n",
       "      <td>0.154946</td>\n",
       "      <td>0.0</td>\n",
       "      <td>0.0</td>\n",
       "      <td>0.0</td>\n",
       "      <td>0.0</td>\n",
       "      <td>0.0</td>\n",
       "      <td>0.0</td>\n",
       "      <td>0.0</td>\n",
       "      <td>...</td>\n",
       "      <td>0.0</td>\n",
       "      <td>0.0</td>\n",
       "      <td>0.0</td>\n",
       "      <td>0.0</td>\n",
       "      <td>0.0</td>\n",
       "      <td>0.000000</td>\n",
       "      <td>0.0</td>\n",
       "      <td>0.0</td>\n",
       "      <td>0.0</td>\n",
       "      <td>0.0</td>\n",
       "    </tr>\n",
       "    <tr>\n",
       "      <th>1</th>\n",
       "      <td>8.6</td>\n",
       "      <td>3139</td>\n",
       "      <td>0.000000</td>\n",
       "      <td>0.0</td>\n",
       "      <td>0.0</td>\n",
       "      <td>0.0</td>\n",
       "      <td>0.0</td>\n",
       "      <td>0.0</td>\n",
       "      <td>0.0</td>\n",
       "      <td>0.0</td>\n",
       "      <td>...</td>\n",
       "      <td>0.0</td>\n",
       "      <td>0.0</td>\n",
       "      <td>0.0</td>\n",
       "      <td>0.0</td>\n",
       "      <td>0.0</td>\n",
       "      <td>0.213956</td>\n",
       "      <td>0.0</td>\n",
       "      <td>0.0</td>\n",
       "      <td>0.0</td>\n",
       "      <td>0.0</td>\n",
       "    </tr>\n",
       "    <tr>\n",
       "      <th>2</th>\n",
       "      <td>8.1</td>\n",
       "      <td>2703</td>\n",
       "      <td>0.143791</td>\n",
       "      <td>0.0</td>\n",
       "      <td>0.0</td>\n",
       "      <td>0.0</td>\n",
       "      <td>0.0</td>\n",
       "      <td>0.0</td>\n",
       "      <td>0.0</td>\n",
       "      <td>0.0</td>\n",
       "      <td>...</td>\n",
       "      <td>0.0</td>\n",
       "      <td>0.0</td>\n",
       "      <td>0.0</td>\n",
       "      <td>0.0</td>\n",
       "      <td>0.0</td>\n",
       "      <td>0.000000</td>\n",
       "      <td>0.0</td>\n",
       "      <td>0.0</td>\n",
       "      <td>0.0</td>\n",
       "      <td>0.0</td>\n",
       "    </tr>\n",
       "    <tr>\n",
       "      <th>3</th>\n",
       "      <td>8.4</td>\n",
       "      <td>2961</td>\n",
       "      <td>0.000000</td>\n",
       "      <td>0.0</td>\n",
       "      <td>0.0</td>\n",
       "      <td>0.0</td>\n",
       "      <td>0.0</td>\n",
       "      <td>0.0</td>\n",
       "      <td>0.0</td>\n",
       "      <td>0.0</td>\n",
       "      <td>...</td>\n",
       "      <td>0.0</td>\n",
       "      <td>0.0</td>\n",
       "      <td>0.0</td>\n",
       "      <td>0.0</td>\n",
       "      <td>0.0</td>\n",
       "      <td>0.000000</td>\n",
       "      <td>0.0</td>\n",
       "      <td>0.0</td>\n",
       "      <td>0.0</td>\n",
       "      <td>0.0</td>\n",
       "    </tr>\n",
       "    <tr>\n",
       "      <th>4</th>\n",
       "      <td>7.9</td>\n",
       "      <td>3769</td>\n",
       "      <td>0.000000</td>\n",
       "      <td>0.0</td>\n",
       "      <td>0.0</td>\n",
       "      <td>0.0</td>\n",
       "      <td>0.0</td>\n",
       "      <td>0.0</td>\n",
       "      <td>0.0</td>\n",
       "      <td>0.0</td>\n",
       "      <td>...</td>\n",
       "      <td>0.0</td>\n",
       "      <td>0.0</td>\n",
       "      <td>0.0</td>\n",
       "      <td>0.0</td>\n",
       "      <td>0.0</td>\n",
       "      <td>0.000000</td>\n",
       "      <td>0.0</td>\n",
       "      <td>0.0</td>\n",
       "      <td>0.0</td>\n",
       "      <td>0.0</td>\n",
       "    </tr>\n",
       "  </tbody>\n",
       "</table>\n",
       "<p>5 rows × 1115 columns</p>\n",
       "</div>"
      ],
      "text/plain": [
       "   Stars  Votes         0    1    2    3    4    5    6    7  ...  1103  1104  \\\n",
       "0    8.6   2860  0.154946  0.0  0.0  0.0  0.0  0.0  0.0  0.0  ...   0.0   0.0   \n",
       "1    8.6   3139  0.000000  0.0  0.0  0.0  0.0  0.0  0.0  0.0  ...   0.0   0.0   \n",
       "2    8.1   2703  0.143791  0.0  0.0  0.0  0.0  0.0  0.0  0.0  ...   0.0   0.0   \n",
       "3    8.4   2961  0.000000  0.0  0.0  0.0  0.0  0.0  0.0  0.0  ...   0.0   0.0   \n",
       "4    7.9   3769  0.000000  0.0  0.0  0.0  0.0  0.0  0.0  0.0  ...   0.0   0.0   \n",
       "\n",
       "   1105  1106  1107      1108  1109  1110  1111  1112  \n",
       "0   0.0   0.0   0.0  0.000000   0.0   0.0   0.0   0.0  \n",
       "1   0.0   0.0   0.0  0.213956   0.0   0.0   0.0   0.0  \n",
       "2   0.0   0.0   0.0  0.000000   0.0   0.0   0.0   0.0  \n",
       "3   0.0   0.0   0.0  0.000000   0.0   0.0   0.0   0.0  \n",
       "4   0.0   0.0   0.0  0.000000   0.0   0.0   0.0   0.0  \n",
       "\n",
       "[5 rows x 1115 columns]"
      ]
     },
     "execution_count": 19,
     "metadata": {},
     "output_type": "execute_result"
    }
   ],
   "source": [
    "tfidf_vect = TfidfVectorizer(analyzer=clean_text)\n",
    "tfidf_vect_fit = tfidf_vect.fit(X_train['Summary'])\n",
    "\n",
    "tfidf_train = tfidf_vect_fit.transform(X_train['Summary'])\n",
    "tfidf_test = tfidf_vect_fit.transform(X_test['Summary'])\n",
    "\n",
    "X_train_vect = pd.concat([X_train[['Stars', 'Votes']].reset_index(drop=True), \n",
    "           pd.DataFrame(tfidf_train.toarray())], axis=1)\n",
    "X_test_vect = pd.concat([X_test[['Stars', 'Votes']].reset_index(drop=True), \n",
    "           pd.DataFrame(tfidf_test.toarray())], axis=1)\n",
    "\n",
    "X_train_vect.head()"
   ]
  },
  {
   "cell_type": "code",
   "execution_count": 20,
   "metadata": {},
   "outputs": [
    {
     "name": "stdout",
     "output_type": "stream",
     "text": [
      "Fit time: 0.155 / Predict time: 0.125 ---- Precision: 0.803 / Recall: 0.896 / Accuracy: 0.896\n"
     ]
    },
    {
     "name": "stderr",
     "output_type": "stream",
     "text": [
      "C:\\Users\\yingl\\Anaconda3\\lib\\site-packages\\sklearn\\metrics\\classification.py:1259: UserWarning: Note that pos_label (set to 'Female') is ignored when average != 'binary' (got 'weighted'). You may use labels=[pos_label] to specify a single positive class.\n",
      "  % (pos_label, average), UserWarning)\n",
      "C:\\Users\\yingl\\Anaconda3\\lib\\site-packages\\sklearn\\metrics\\classification.py:1437: UndefinedMetricWarning: Precision and F-score are ill-defined and being set to 0.0 in labels with no predicted samples.\n",
      "  'precision', 'predicted', average, warn_for)\n"
     ]
    }
   ],
   "source": [
    "#Final evaluation of models\n",
    "from sklearn.ensemble import RandomForestClassifier, GradientBoostingClassifier\n",
    "from sklearn.metrics import precision_recall_fscore_support as score\n",
    "import time\n",
    "\n",
    "rf = RandomForestClassifier(n_estimators=60, max_depth=20, n_jobs=-1)\n",
    "\n",
    "start = time.time()\n",
    "rf_model = rf.fit(X_train_vect, y_train)\n",
    "end = time.time()\n",
    "fit_time = (end - start)\n",
    "\n",
    "start = time.time()\n",
    "y_pred = rf_model.predict(X_test_vect)\n",
    "end = time.time()\n",
    "pred_time = (end - start)\n",
    "\n",
    "precision, recall, fscore, train_support = score(y_test, y_pred, pos_label='Female', average='weighted')\n",
    "print('Fit time: {} / Predict time: {} ---- Precision: {} / Recall: {} / Accuracy: {}'.format(\n",
    "    round(fit_time, 3), round(pred_time, 3), round(precision, 3), round(recall, 3), round((y_pred==y_test).sum()/len(y_pred), 3)))"
   ]
  },
  {
   "cell_type": "code",
   "execution_count": 21,
   "metadata": {},
   "outputs": [
    {
     "name": "stdout",
     "output_type": "stream",
     "text": [
      "Fit time: 0.174 / Predict time: 0.002 ---- Precision: 0.801 / Recall: 0.875 / Accuracy: 0.875\n"
     ]
    },
    {
     "name": "stderr",
     "output_type": "stream",
     "text": [
      "C:\\Users\\yingl\\Anaconda3\\lib\\site-packages\\sklearn\\metrics\\classification.py:1259: UserWarning: Note that pos_label (set to 'Female') is ignored when average != 'binary' (got 'weighted'). You may use labels=[pos_label] to specify a single positive class.\n",
      "  % (pos_label, average), UserWarning)\n"
     ]
    }
   ],
   "source": [
    "gb = GradientBoostingClassifier(n_estimators=50, max_depth=3)\n",
    "\n",
    "start = time.time()\n",
    "gb_model = gb.fit(X_train_vect, y_train)\n",
    "end = time.time()\n",
    "fit_time = (end - start)\n",
    "\n",
    "start = time.time()\n",
    "y_pred = gb_model.predict(X_test_vect)\n",
    "end = time.time()\n",
    "pred_time = (end - start)\n",
    "\n",
    "precision, recall, fscore, train_support = score(y_test, y_pred, pos_label='Female', average='weighted')\n",
    "print('Fit time: {} / Predict time: {} ---- Precision: {} / Recall: {} / Accuracy: {}'.format(\n",
    "    round(fit_time, 3), round(pred_time, 3), round(precision, 3), round(recall, 3), round((y_pred==y_test).sum()/len(y_pred), 3)))"
   ]
  },
  {
   "cell_type": "markdown",
   "metadata": {},
   "source": [
    "### Bonus: Visualize the frequent words in the show's transcripts\n",
    "##### Data source: \n",
    "FRIENDS TV Series - Screenplay Script \n",
    "https://www.kaggle.com/blessondensil294/friends-tv-series-screenplay-script"
   ]
  },
  {
   "cell_type": "code",
   "execution_count": 22,
   "metadata": {},
   "outputs": [
    {
     "name": "stdout",
     "output_type": "stream",
     "text": [
      "C:\\Kaggle\\DataSet\\FRIENDS-TV-Series-Screenplay-Script\\S01E01 Monica Gets A Roommate.txt\n",
      "C:\\Kaggle\\DataSet\\FRIENDS-TV-Series-Screenplay-Script\\S01E02 The Sonogram At The End.txt\n",
      "C:\\Kaggle\\DataSet\\FRIENDS-TV-Series-Screenplay-Script\\S01E03 The Thumb.txt\n",
      "C:\\Kaggle\\DataSet\\FRIENDS-TV-Series-Screenplay-Script\\S01E04 George Stephanopoulos.txt\n",
      "C:\\Kaggle\\DataSet\\FRIENDS-TV-Series-Screenplay-Script\\S01E05 The East German Laundry Detergent.txt\n",
      "C:\\Kaggle\\DataSet\\FRIENDS-TV-Series-Screenplay-Script\\S01E06 The Butt.txt\n",
      "C:\\Kaggle\\DataSet\\FRIENDS-TV-Series-Screenplay-Script\\S01E07 The Blackout.txt\n",
      "C:\\Kaggle\\DataSet\\FRIENDS-TV-Series-Screenplay-Script\\S01E08 Nana Dies Twice.txt\n",
      "C:\\Kaggle\\DataSet\\FRIENDS-TV-Series-Screenplay-Script\\S01E09 Underdog Gets Away.txt\n",
      "C:\\Kaggle\\DataSet\\FRIENDS-TV-Series-Screenplay-Script\\S01E10 The Monkey.txt\n",
      "C:\\Kaggle\\DataSet\\FRIENDS-TV-Series-Screenplay-Script\\S01E11 Mrs. Bing.txt\n",
      "C:\\Kaggle\\DataSet\\FRIENDS-TV-Series-Screenplay-Script\\S01E12 The Dozen Lasagnas.txt\n",
      "C:\\Kaggle\\DataSet\\FRIENDS-TV-Series-Screenplay-Script\\S01E13 The Boobies.txt\n",
      "C:\\Kaggle\\DataSet\\FRIENDS-TV-Series-Screenplay-Script\\S01E14 The Candy Hearts.txt\n",
      "C:\\Kaggle\\DataSet\\FRIENDS-TV-Series-Screenplay-Script\\S01E15 The Stoned Guy.txt\n",
      "C:\\Kaggle\\DataSet\\FRIENDS-TV-Series-Screenplay-Script\\S01E16 The Two Parts Part I.txt\n",
      "C:\\Kaggle\\DataSet\\FRIENDS-TV-Series-Screenplay-Script\\S01E17 The Two Parts Part II.txt\n",
      "C:\\Kaggle\\DataSet\\FRIENDS-TV-Series-Screenplay-Script\\S01E18 All The Poker.txt\n",
      "C:\\Kaggle\\DataSet\\FRIENDS-TV-Series-Screenplay-Script\\S01E19 The Monkey Gets Away.txt\n",
      "C:\\Kaggle\\DataSet\\FRIENDS-TV-Series-Screenplay-Script\\S01E20 The Evil Orthodontist.txt\n",
      "C:\\Kaggle\\DataSet\\FRIENDS-TV-Series-Screenplay-Script\\S01E21 The Fake Monica.txt\n",
      "C:\\Kaggle\\DataSet\\FRIENDS-TV-Series-Screenplay-Script\\S01E22 The Ick Factor.txt\n",
      "C:\\Kaggle\\DataSet\\FRIENDS-TV-Series-Screenplay-Script\\S01E23 The Birth.txt\n",
      "C:\\Kaggle\\DataSet\\FRIENDS-TV-Series-Screenplay-Script\\S01E24 Rachel Finds Out.txt\n",
      "C:\\Kaggle\\DataSet\\FRIENDS-TV-Series-Screenplay-Script\\S02E01 Rosss New Girlfriend.txt\n",
      "C:\\Kaggle\\DataSet\\FRIENDS-TV-Series-Screenplay-Script\\S02E02 The Breast Milk.txt\n",
      "C:\\Kaggle\\DataSet\\FRIENDS-TV-Series-Screenplay-Script\\S02E03 Heckles Dies.txt\n",
      "C:\\Kaggle\\DataSet\\FRIENDS-TV-Series-Screenplay-Script\\S02E04 Phoebes Husband.txt\n",
      "C:\\Kaggle\\DataSet\\FRIENDS-TV-Series-Screenplay-Script\\S02E05 Five Steaks And An Eggplant.txt\n",
      "C:\\Kaggle\\DataSet\\FRIENDS-TV-Series-Screenplay-Script\\S02E06 The Baby On The Bus.txt\n",
      "C:\\Kaggle\\DataSet\\FRIENDS-TV-Series-Screenplay-Script\\S02E07 Ross Finds Out.txt\n",
      "C:\\Kaggle\\DataSet\\FRIENDS-TV-Series-Screenplay-Script\\S02E08 The List.txt\n",
      "C:\\Kaggle\\DataSet\\FRIENDS-TV-Series-Screenplay-Script\\S02E09 Phoebes Dad.txt\n",
      "C:\\Kaggle\\DataSet\\FRIENDS-TV-Series-Screenplay-Script\\S02E10 Russ.txt\n",
      "C:\\Kaggle\\DataSet\\FRIENDS-TV-Series-Screenplay-Script\\S02E11 The Lesbian Wedding.txt\n",
      "C:\\Kaggle\\DataSet\\FRIENDS-TV-Series-Screenplay-Script\\S02E12-S02E13 The Superbowl.txt\n",
      "C:\\Kaggle\\DataSet\\FRIENDS-TV-Series-Screenplay-Script\\S02E14 The Prom Video.txt\n",
      "C:\\Kaggle\\DataSet\\FRIENDS-TV-Series-Screenplay-Script\\S02E15 Ross And Rachel... You Know.txt\n",
      "C:\\Kaggle\\DataSet\\FRIENDS-TV-Series-Screenplay-Script\\S02E16 Joey Moves Out.txt\n",
      "C:\\Kaggle\\DataSet\\FRIENDS-TV-Series-Screenplay-Script\\S02E17 Eddie Moves In.txt\n",
      "C:\\Kaggle\\DataSet\\FRIENDS-TV-Series-Screenplay-Script\\S02E18 Dr. Ramoray Dies.txt\n",
      "C:\\Kaggle\\DataSet\\FRIENDS-TV-Series-Screenplay-Script\\S02E19 Eddie Wont Go.txt\n",
      "C:\\Kaggle\\DataSet\\FRIENDS-TV-Series-Screenplay-Script\\S02E20 Old Yeller Dies.txt\n",
      "C:\\Kaggle\\DataSet\\FRIENDS-TV-Series-Screenplay-Script\\S02E21 The Bullies.txt\n",
      "C:\\Kaggle\\DataSet\\FRIENDS-TV-Series-Screenplay-Script\\S02E22 The Two Parties.txt\n",
      "C:\\Kaggle\\DataSet\\FRIENDS-TV-Series-Screenplay-Script\\S02E23 The Chicken Pox.txt\n",
      "C:\\Kaggle\\DataSet\\FRIENDS-TV-Series-Screenplay-Script\\S02E24 Barry And Mindys Wedding.txt\n",
      "C:\\Kaggle\\DataSet\\FRIENDS-TV-Series-Screenplay-Script\\S03E01 The Princess Leia Fantasy.txt\n",
      "C:\\Kaggle\\DataSet\\FRIENDS-TV-Series-Screenplay-Script\\S03E02 No Ones Ready.txt\n",
      "C:\\Kaggle\\DataSet\\FRIENDS-TV-Series-Screenplay-Script\\S03E03 The Jam.txt\n",
      "C:\\Kaggle\\DataSet\\FRIENDS-TV-Series-Screenplay-Script\\S03E04 The Metaphorical Tunnel.txt\n",
      "C:\\Kaggle\\DataSet\\FRIENDS-TV-Series-Screenplay-Script\\S03E05 Frank Jr..txt\n",
      "C:\\Kaggle\\DataSet\\FRIENDS-TV-Series-Screenplay-Script\\S03E06 The Flashback.txt\n",
      "C:\\Kaggle\\DataSet\\FRIENDS-TV-Series-Screenplay-Script\\S03E07 The Race Car Bed.txt\n",
      "C:\\Kaggle\\DataSet\\FRIENDS-TV-Series-Screenplay-Script\\S03E08 The Giant Poking Device.txt\n",
      "C:\\Kaggle\\DataSet\\FRIENDS-TV-Series-Screenplay-Script\\S03E09 The Football.txt\n",
      "C:\\Kaggle\\DataSet\\FRIENDS-TV-Series-Screenplay-Script\\S03E10 Rachel Quits.txt\n",
      "C:\\Kaggle\\DataSet\\FRIENDS-TV-Series-Screenplay-Script\\S03E11 Chandler Cant Remember Which Sister.txt\n",
      "C:\\Kaggle\\DataSet\\FRIENDS-TV-Series-Screenplay-Script\\S03E12 All The Jealousy.txt\n",
      "C:\\Kaggle\\DataSet\\FRIENDS-TV-Series-Screenplay-Script\\S03E13 Monica And Richard Are Just Friends.txt\n",
      "C:\\Kaggle\\DataSet\\FRIENDS-TV-Series-Screenplay-Script\\S03E14 Phoebes Ex-Partner.txt\n",
      "C:\\Kaggle\\DataSet\\FRIENDS-TV-Series-Screenplay-Script\\S03E15 Ross And Rachel Take A Break.txt\n",
      "C:\\Kaggle\\DataSet\\FRIENDS-TV-Series-Screenplay-Script\\S03E16 The Morning After.txt\n",
      "C:\\Kaggle\\DataSet\\FRIENDS-TV-Series-Screenplay-Script\\S03E17 The Ski Trip.txt\n",
      "C:\\Kaggle\\DataSet\\FRIENDS-TV-Series-Screenplay-Script\\S03E18 The Hypnosis Tape.txt\n",
      "C:\\Kaggle\\DataSet\\FRIENDS-TV-Series-Screenplay-Script\\S03E19 The Tiny T-Shirt.txt\n",
      "C:\\Kaggle\\DataSet\\FRIENDS-TV-Series-Screenplay-Script\\S03E20 The Dollhouse.txt\n",
      "C:\\Kaggle\\DataSet\\FRIENDS-TV-Series-Screenplay-Script\\S03E21 The Chick And The Duck.txt\n",
      "C:\\Kaggle\\DataSet\\FRIENDS-TV-Series-Screenplay-Script\\S03E22 The Screamer.txt\n",
      "C:\\Kaggle\\DataSet\\FRIENDS-TV-Series-Screenplay-Script\\S03E23 Rosss Thing.txt\n",
      "C:\\Kaggle\\DataSet\\FRIENDS-TV-Series-Screenplay-Script\\S03E24 The Ultimate Fighting Champion.txt\n",
      "C:\\Kaggle\\DataSet\\FRIENDS-TV-Series-Screenplay-Script\\s03E25 At The Beach.txt\n",
      "C:\\Kaggle\\DataSet\\FRIENDS-TV-Series-Screenplay-Script\\S04E01 The Jellyfish.txt\n",
      "C:\\Kaggle\\DataSet\\FRIENDS-TV-Series-Screenplay-Script\\S04E02 The Cat.txt\n",
      "C:\\Kaggle\\DataSet\\FRIENDS-TV-Series-Screenplay-Script\\S04E03 The Cuffs.txt\n",
      "C:\\Kaggle\\DataSet\\FRIENDS-TV-Series-Screenplay-Script\\S04E04 The Ballroom Dancing.txt\n",
      "C:\\Kaggle\\DataSet\\FRIENDS-TV-Series-Screenplay-Script\\S04E05 Joeys New Girlfriend.txt\n",
      "C:\\Kaggle\\DataSet\\FRIENDS-TV-Series-Screenplay-Script\\S04E06 The Dirty Girl.txt\n",
      "C:\\Kaggle\\DataSet\\FRIENDS-TV-Series-Screenplay-Script\\S04E07 Chandler Crosses The Line.txt\n",
      "C:\\Kaggle\\DataSet\\FRIENDS-TV-Series-Screenplay-Script\\S04E08 Chandler In A Box.txt\n",
      "C:\\Kaggle\\DataSet\\FRIENDS-TV-Series-Screenplay-Script\\S04E09 Theyre Going To Party.txt\n",
      "C:\\Kaggle\\DataSet\\FRIENDS-TV-Series-Screenplay-Script\\S04E10 The Girl From Poughkeepsie.txt\n",
      "C:\\Kaggle\\DataSet\\FRIENDS-TV-Series-Screenplay-Script\\S04E11 Phoebes Uterus.txt\n",
      "C:\\Kaggle\\DataSet\\FRIENDS-TV-Series-Screenplay-Script\\S04E12 The Embryos.txt\n",
      "C:\\Kaggle\\DataSet\\FRIENDS-TV-Series-Screenplay-Script\\S04E13 Rachels Crush.txt\n",
      "C:\\Kaggle\\DataSet\\FRIENDS-TV-Series-Screenplay-Script\\S04E14 Joeys Dirty Day.txt\n",
      "C:\\Kaggle\\DataSet\\FRIENDS-TV-Series-Screenplay-Script\\S04E15 All The Rugby.txt\n",
      "C:\\Kaggle\\DataSet\\FRIENDS-TV-Series-Screenplay-Script\\S04E16 The Fake Party.txt\n",
      "C:\\Kaggle\\DataSet\\FRIENDS-TV-Series-Screenplay-Script\\S04E17 The Free Porn.txt\n",
      "C:\\Kaggle\\DataSet\\FRIENDS-TV-Series-Screenplay-Script\\S04E18 Rachels New Dress.txt\n",
      "C:\\Kaggle\\DataSet\\FRIENDS-TV-Series-Screenplay-Script\\S04E19 All The Haste.txt\n",
      "C:\\Kaggle\\DataSet\\FRIENDS-TV-Series-Screenplay-Script\\S04E20 The Wedding Dresses.txt\n",
      "C:\\Kaggle\\DataSet\\FRIENDS-TV-Series-Screenplay-Script\\S04E21 The Invitation.txt\n",
      "C:\\Kaggle\\DataSet\\FRIENDS-TV-Series-Screenplay-Script\\S04E22 The Worst Best Man Ever.txt\n",
      "C:\\Kaggle\\DataSet\\FRIENDS-TV-Series-Screenplay-Script\\S04E23 Rosss Wedding.txt\n",
      "C:\\Kaggle\\DataSet\\FRIENDS-TV-Series-Screenplay-Script\\S05E01 Ross Says Rachel.txt\n",
      "C:\\Kaggle\\DataSet\\FRIENDS-TV-Series-Screenplay-Script\\S05E02 All The Kissing.txt\n",
      "C:\\Kaggle\\DataSet\\FRIENDS-TV-Series-Screenplay-Script\\S05E03 Hundredth.txt\n",
      "C:\\Kaggle\\DataSet\\FRIENDS-TV-Series-Screenplay-Script\\S05E04 Phoebe Hates PBS.txt\n",
      "C:\\Kaggle\\DataSet\\FRIENDS-TV-Series-Screenplay-Script\\S05E05 The Kips.txt\n",
      "C:\\Kaggle\\DataSet\\FRIENDS-TV-Series-Screenplay-Script\\S05E06 The Yeti.txt\n",
      "C:\\Kaggle\\DataSet\\FRIENDS-TV-Series-Screenplay-Script\\S05E07 Ross Moves In.txt\n",
      "C:\\Kaggle\\DataSet\\FRIENDS-TV-Series-Screenplay-Script\\S05E08 The Thanksgiving Flashbacks.txt\n",
      "C:\\Kaggle\\DataSet\\FRIENDS-TV-Series-Screenplay-Script\\S05E09 Rosss Sandwich.txt\n",
      "C:\\Kaggle\\DataSet\\FRIENDS-TV-Series-Screenplay-Script\\S05E10 The Inappropriate Sister.txt\n",
      "C:\\Kaggle\\DataSet\\FRIENDS-TV-Series-Screenplay-Script\\S05E11 All The Resolutions.txt\n",
      "C:\\Kaggle\\DataSet\\FRIENDS-TV-Series-Screenplay-Script\\S05E12 Chandlers Work Laugh.txt\n",
      "C:\\Kaggle\\DataSet\\FRIENDS-TV-Series-Screenplay-Script\\S05E13 Joeys Bag.txt\n",
      "C:\\Kaggle\\DataSet\\FRIENDS-TV-Series-Screenplay-Script\\S05E14 Everybody Finds Out.txt\n",
      "C:\\Kaggle\\DataSet\\FRIENDS-TV-Series-Screenplay-Script\\S05E15 The Girl Who Hits Joey.txt\n",
      "C:\\Kaggle\\DataSet\\FRIENDS-TV-Series-Screenplay-Script\\S05E16 The Cop.txt\n",
      "C:\\Kaggle\\DataSet\\FRIENDS-TV-Series-Screenplay-Script\\S05E17 Rachels Inadvertant Kiss.txt\n",
      "C:\\Kaggle\\DataSet\\FRIENDS-TV-Series-Screenplay-Script\\S05E18 Rachel Smokes.txt\n",
      "C:\\Kaggle\\DataSet\\FRIENDS-TV-Series-Screenplay-Script\\S05E19 Ross Cant Flirt.txt\n",
      "C:\\Kaggle\\DataSet\\FRIENDS-TV-Series-Screenplay-Script\\S05E20 The Ride Along.txt\n",
      "C:\\Kaggle\\DataSet\\FRIENDS-TV-Series-Screenplay-Script\\S05E21 The Ball.txt\n",
      "C:\\Kaggle\\DataSet\\FRIENDS-TV-Series-Screenplay-Script\\S05E22 Joeys Big Break.txt\n",
      "C:\\Kaggle\\DataSet\\FRIENDS-TV-Series-Screenplay-Script\\S05E23 In Vegas.txt\n",
      "C:\\Kaggle\\DataSet\\FRIENDS-TV-Series-Screenplay-Script\\S06E01 Vegas.txt\n",
      "C:\\Kaggle\\DataSet\\FRIENDS-TV-Series-Screenplay-Script\\S06E02 Ross Hugs Rachel.txt\n",
      "C:\\Kaggle\\DataSet\\FRIENDS-TV-Series-Screenplay-Script\\S06E03 Rosss Denial.txt\n",
      "C:\\Kaggle\\DataSet\\FRIENDS-TV-Series-Screenplay-Script\\S06E04 Joey Loses His Insurance.txt\n",
      "C:\\Kaggle\\DataSet\\FRIENDS-TV-Series-Screenplay-Script\\S06E05 Joeys Porsche.txt\n",
      "C:\\Kaggle\\DataSet\\FRIENDS-TV-Series-Screenplay-Script\\S06E06 On The Last Night.txt\n",
      "C:\\Kaggle\\DataSet\\FRIENDS-TV-Series-Screenplay-Script\\S06E07 Phoebe Runs.txt\n",
      "C:\\Kaggle\\DataSet\\FRIENDS-TV-Series-Screenplay-Script\\S06E08 Rosss Teeth.txt\n",
      "C:\\Kaggle\\DataSet\\FRIENDS-TV-Series-Screenplay-Script\\S06E09 Ross Got High.txt\n",
      "C:\\Kaggle\\DataSet\\FRIENDS-TV-Series-Screenplay-Script\\S06E10 The Routine.txt\n",
      "C:\\Kaggle\\DataSet\\FRIENDS-TV-Series-Screenplay-Script\\S06E11 The Apothecary Table.txt\n",
      "C:\\Kaggle\\DataSet\\FRIENDS-TV-Series-Screenplay-Script\\S06E12 The Joke.txt\n",
      "C:\\Kaggle\\DataSet\\FRIENDS-TV-Series-Screenplay-Script\\S06E13 Rachels Sister.txt\n",
      "C:\\Kaggle\\DataSet\\FRIENDS-TV-Series-Screenplay-Script\\S06E14 Chandler Cant Cry.txt\n",
      "C:\\Kaggle\\DataSet\\FRIENDS-TV-Series-Screenplay-Script\\S06E15-S06E16 That Could Have Been Part I  II.txt\n",
      "C:\\Kaggle\\DataSet\\FRIENDS-TV-Series-Screenplay-Script\\S06E17 Unagi.txt\n",
      "C:\\Kaggle\\DataSet\\FRIENDS-TV-Series-Screenplay-Script\\S06E18 Ross Dates A Student.txt\n",
      "C:\\Kaggle\\DataSet\\FRIENDS-TV-Series-Screenplay-Script\\S06E19 Joeys Fridge.txt\n",
      "C:\\Kaggle\\DataSet\\FRIENDS-TV-Series-Screenplay-Script\\S06E20 Mac And C.H.E.E.S.E..txt\n",
      "C:\\Kaggle\\DataSet\\FRIENDS-TV-Series-Screenplay-Script\\S06E21 Ross Meets Elizabeths Dad.txt\n",
      "C:\\Kaggle\\DataSet\\FRIENDS-TV-Series-Screenplay-Script\\S06E22 Pauls The Man.txt\n",
      "C:\\Kaggle\\DataSet\\FRIENDS-TV-Series-Screenplay-Script\\S06E23 The Ring.txt\n",
      "C:\\Kaggle\\DataSet\\FRIENDS-TV-Series-Screenplay-Script\\S06E24 The Proposal Part I  II.txt\n",
      "C:\\Kaggle\\DataSet\\FRIENDS-TV-Series-Screenplay-Script\\S07E01 Monicas Thunder.txt\n",
      "C:\\Kaggle\\DataSet\\FRIENDS-TV-Series-Screenplay-Script\\S07E02 Rachels Book.txt\n",
      "C:\\Kaggle\\DataSet\\FRIENDS-TV-Series-Screenplay-Script\\S07E03 Phoebes Cookies.txt\n",
      "C:\\Kaggle\\DataSet\\FRIENDS-TV-Series-Screenplay-Script\\S07E04 Rachels Assistant.txt\n",
      "C:\\Kaggle\\DataSet\\FRIENDS-TV-Series-Screenplay-Script\\S07E05 The Engagement Picture.txt\n",
      "C:\\Kaggle\\DataSet\\FRIENDS-TV-Series-Screenplay-Script\\S07E06 The Nap Partners.txt\n",
      "C:\\Kaggle\\DataSet\\FRIENDS-TV-Series-Screenplay-Script\\S07E07 Rosss Library Book.txt\n",
      "C:\\Kaggle\\DataSet\\FRIENDS-TV-Series-Screenplay-Script\\S07E08 Chandler Doesnt Like Dogs.txt\n",
      "C:\\Kaggle\\DataSet\\FRIENDS-TV-Series-Screenplay-Script\\S07E09 All The Candy.txt\n",
      "C:\\Kaggle\\DataSet\\FRIENDS-TV-Series-Screenplay-Script\\S07E10 The Huliday Armadillo.txt\n",
      "C:\\Kaggle\\DataSet\\FRIENDS-TV-Series-Screenplay-Script\\S07E11 All The Cheesecakes.txt\n",
      "C:\\Kaggle\\DataSet\\FRIENDS-TV-Series-Screenplay-Script\\S07E12 Theyre Up All Night.txt\n",
      "C:\\Kaggle\\DataSet\\FRIENDS-TV-Series-Screenplay-Script\\S07E13 Rosita Dies.txt\n",
      "C:\\Kaggle\\DataSet\\FRIENDS-TV-Series-Screenplay-Script\\S07E14 They All Turn Thirty.txt\n",
      "C:\\Kaggle\\DataSet\\FRIENDS-TV-Series-Screenplay-Script\\S07E15 Joeys New Brain.txt\n",
      "C:\\Kaggle\\DataSet\\FRIENDS-TV-Series-Screenplay-Script\\S07E16 The Truth About London.txt\n",
      "C:\\Kaggle\\DataSet\\FRIENDS-TV-Series-Screenplay-Script\\S07E17 The Cheap Wedding Dress.txt\n",
      "C:\\Kaggle\\DataSet\\FRIENDS-TV-Series-Screenplay-Script\\S07E18 Joeys Award.txt\n",
      "C:\\Kaggle\\DataSet\\FRIENDS-TV-Series-Screenplay-Script\\S07E19 Ross And Monicas Cousin.txt\n",
      "C:\\Kaggle\\DataSet\\FRIENDS-TV-Series-Screenplay-Script\\S07E20 Rachels Big Kiss.txt\n",
      "C:\\Kaggle\\DataSet\\FRIENDS-TV-Series-Screenplay-Script\\S07E21 The Vows.txt\n",
      "C:\\Kaggle\\DataSet\\FRIENDS-TV-Series-Screenplay-Script\\S07E22 Chandlers Dad.txt\n",
      "C:\\Kaggle\\DataSet\\FRIENDS-TV-Series-Screenplay-Script\\S07E23 Chandler And Monicas Wedding.txt\n",
      "C:\\Kaggle\\DataSet\\FRIENDS-TV-Series-Screenplay-Script\\S07E24 Friends Special The Stuff Youve Never Seen.txt\n",
      "C:\\Kaggle\\DataSet\\FRIENDS-TV-Series-Screenplay-Script\\S08E01 I Do.txt\n",
      "C:\\Kaggle\\DataSet\\FRIENDS-TV-Series-Screenplay-Script\\S08E02 The Red Sweater.txt\n",
      "C:\\Kaggle\\DataSet\\FRIENDS-TV-Series-Screenplay-Script\\S08E03 Rachel Tells....txt\n",
      "C:\\Kaggle\\DataSet\\FRIENDS-TV-Series-Screenplay-Script\\S08E04 The Videotape.txt\n",
      "C:\\Kaggle\\DataSet\\FRIENDS-TV-Series-Screenplay-Script\\S08E05 Rachels Date.txt\n",
      "C:\\Kaggle\\DataSet\\FRIENDS-TV-Series-Screenplay-Script\\S08E06 The Halloween Party.txt\n",
      "C:\\Kaggle\\DataSet\\FRIENDS-TV-Series-Screenplay-Script\\S08E07 The Stain.txt\n",
      "C:\\Kaggle\\DataSet\\FRIENDS-TV-Series-Screenplay-Script\\S08E08 The Stripper.txt\n",
      "C:\\Kaggle\\DataSet\\FRIENDS-TV-Series-Screenplay-Script\\S08E09 The Rumor.txt\n",
      "C:\\Kaggle\\DataSet\\FRIENDS-TV-Series-Screenplay-Script\\S08E10 Monicas Boots.txt\n",
      "C:\\Kaggle\\DataSet\\FRIENDS-TV-Series-Screenplay-Script\\S08E11 Rosss Step Forward.txt\n",
      "C:\\Kaggle\\DataSet\\FRIENDS-TV-Series-Screenplay-Script\\S08E12 Joey Dates Rachel.txt\n",
      "C:\\Kaggle\\DataSet\\FRIENDS-TV-Series-Screenplay-Script\\S08E13 Chandler Takes A Bath.txt\n",
      "C:\\Kaggle\\DataSet\\FRIENDS-TV-Series-Screenplay-Script\\S08E14 The Secret Closet.txt\n",
      "C:\\Kaggle\\DataSet\\FRIENDS-TV-Series-Screenplay-Script\\S08E15 The Birthing Video.txt\n",
      "C:\\Kaggle\\DataSet\\FRIENDS-TV-Series-Screenplay-Script\\S08E16 Joey Tells Rachel.txt\n",
      "C:\\Kaggle\\DataSet\\FRIENDS-TV-Series-Screenplay-Script\\S08E17 The Tea Leaves.txt\n",
      "C:\\Kaggle\\DataSet\\FRIENDS-TV-Series-Screenplay-Script\\S08E18 In Massapequa.txt\n",
      "C:\\Kaggle\\DataSet\\FRIENDS-TV-Series-Screenplay-Script\\S08E19 Joeys Interview.txt\n",
      "C:\\Kaggle\\DataSet\\FRIENDS-TV-Series-Screenplay-Script\\S08E20 The Baby Shower.txt\n",
      "C:\\Kaggle\\DataSet\\FRIENDS-TV-Series-Screenplay-Script\\S08E21 The Cooking Class.txt\n",
      "C:\\Kaggle\\DataSet\\FRIENDS-TV-Series-Screenplay-Script\\S08E22 Rachel Is Late.txt\n",
      "C:\\Kaggle\\DataSet\\FRIENDS-TV-Series-Screenplay-Script\\S08E23 Rachel Has A Baby.txt\n",
      "C:\\Kaggle\\DataSet\\FRIENDS-TV-Series-Screenplay-Script\\S09E01 No One Proposes.txt\n",
      "C:\\Kaggle\\DataSet\\FRIENDS-TV-Series-Screenplay-Script\\S09E02 Emma Cries.txt\n",
      "C:\\Kaggle\\DataSet\\FRIENDS-TV-Series-Screenplay-Script\\S09E03 The Pediatrician.txt\n",
      "C:\\Kaggle\\DataSet\\FRIENDS-TV-Series-Screenplay-Script\\S09E04 The Sharks.txt\n",
      "C:\\Kaggle\\DataSet\\FRIENDS-TV-Series-Screenplay-Script\\S09E05 Phoebes Birthday Dinner.txt\n",
      "C:\\Kaggle\\DataSet\\FRIENDS-TV-Series-Screenplay-Script\\S09E06 The Male Nanny.txt\n",
      "C:\\Kaggle\\DataSet\\FRIENDS-TV-Series-Screenplay-Script\\S09E07 Rosss Inappropriate Song.txt\n",
      "C:\\Kaggle\\DataSet\\FRIENDS-TV-Series-Screenplay-Script\\S09E08 Rachels Other Sister.txt\n",
      "C:\\Kaggle\\DataSet\\FRIENDS-TV-Series-Screenplay-Script\\S09E09 Rachels Phone Number.txt\n",
      "C:\\Kaggle\\DataSet\\FRIENDS-TV-Series-Screenplay-Script\\S09E10 Christmas In Tulsa.txt\n",
      "C:\\Kaggle\\DataSet\\FRIENDS-TV-Series-Screenplay-Script\\S09E11 Rachel Goes Back To Work.txt\n",
      "C:\\Kaggle\\DataSet\\FRIENDS-TV-Series-Screenplay-Script\\S09E12 Phoebes Rats.txt\n",
      "C:\\Kaggle\\DataSet\\FRIENDS-TV-Series-Screenplay-Script\\S09E13 Monica Sings.txt\n",
      "C:\\Kaggle\\DataSet\\FRIENDS-TV-Series-Screenplay-Script\\S09E14 The Blind Dates.txt\n",
      "C:\\Kaggle\\DataSet\\FRIENDS-TV-Series-Screenplay-Script\\S09E15 The Mugging.txt\n",
      "C:\\Kaggle\\DataSet\\FRIENDS-TV-Series-Screenplay-Script\\S09E16 The Boob Job.txt\n",
      "C:\\Kaggle\\DataSet\\FRIENDS-TV-Series-Screenplay-Script\\S09E17 The Memorial Service.txt\n",
      "C:\\Kaggle\\DataSet\\FRIENDS-TV-Series-Screenplay-Script\\S09E18 The Lottery.txt\n",
      "C:\\Kaggle\\DataSet\\FRIENDS-TV-Series-Screenplay-Script\\S09E19 Rachels Dream.txt\n",
      "C:\\Kaggle\\DataSet\\FRIENDS-TV-Series-Screenplay-Script\\S09E20 The Soap Opera Party.txt\n",
      "C:\\Kaggle\\DataSet\\FRIENDS-TV-Series-Screenplay-Script\\S09E21 The Fertility Test.txt\n",
      "C:\\Kaggle\\DataSet\\FRIENDS-TV-Series-Screenplay-Script\\S09E22 The Donor.txt\n",
      "C:\\Kaggle\\DataSet\\FRIENDS-TV-Series-Screenplay-Script\\S09E23-S09E24 In Barbados.txt\n",
      "C:\\Kaggle\\DataSet\\FRIENDS-TV-Series-Screenplay-Script\\S10E01 Joey and Rachel Kiss.txt\n",
      "C:\\Kaggle\\DataSet\\FRIENDS-TV-Series-Screenplay-Script\\S10E02 Ross Is Fine.txt\n",
      "C:\\Kaggle\\DataSet\\FRIENDS-TV-Series-Screenplay-Script\\S10E03 Rosss Tan.txt\n",
      "C:\\Kaggle\\DataSet\\FRIENDS-TV-Series-Screenplay-Script\\S10E04 The Cake.txt\n",
      "C:\\Kaggle\\DataSet\\FRIENDS-TV-Series-Screenplay-Script\\S10E05 Rachels Sister Babysits.txt\n",
      "C:\\Kaggle\\DataSet\\FRIENDS-TV-Series-Screenplay-Script\\S10E06 Rosss Grant.txt\n",
      "C:\\Kaggle\\DataSet\\FRIENDS-TV-Series-Screenplay-Script\\S10E07 The Home Study.txt\n",
      "C:\\Kaggle\\DataSet\\FRIENDS-TV-Series-Screenplay-Script\\S10E08 The Late Thanksgiving.txt\n",
      "C:\\Kaggle\\DataSet\\FRIENDS-TV-Series-Screenplay-Script\\S10E09 The Birth Mother.txt\n",
      "C:\\Kaggle\\DataSet\\FRIENDS-TV-Series-Screenplay-Script\\S10E10 Chandler Gets Caught.txt\n",
      "C:\\Kaggle\\DataSet\\FRIENDS-TV-Series-Screenplay-Script\\S10E11 The Stripper Cries.txt\n",
      "C:\\Kaggle\\DataSet\\FRIENDS-TV-Series-Screenplay-Script\\S10E12 Phoebes Wedding.txt\n",
      "C:\\Kaggle\\DataSet\\FRIENDS-TV-Series-Screenplay-Script\\S10E13 Joey Speaks French.txt\n",
      "C:\\Kaggle\\DataSet\\FRIENDS-TV-Series-Screenplay-Script\\S10E14 Princess Consuela.txt\n",
      "C:\\Kaggle\\DataSet\\FRIENDS-TV-Series-Screenplay-Script\\S10E15 Estelle Dies.txt\n",
      "C:\\Kaggle\\DataSet\\FRIENDS-TV-Series-Screenplay-Script\\S10E16 Rachels Going Away Party.txt\n",
      "C:\\Kaggle\\DataSet\\FRIENDS-TV-Series-Screenplay-Script\\S10E17-S10E18 The Last One Part I  II.txt\n"
     ]
    }
   ],
   "source": [
    "import os\n",
    "for dirname, _, filenames in os.walk('C:\\Kaggle\\DataSet\\FRIENDS-TV-Series-Screenplay-Script'):\n",
    "    for filename in filenames:\n",
    "        print(os.path.join(dirname, filename))"
   ]
  },
  {
   "cell_type": "code",
   "execution_count": 23,
   "metadata": {},
   "outputs": [
    {
     "name": "stdout",
     "output_type": "stream",
     "text": [
      "The One Where Monica Gets a New Roommate (The Pilot-The Uncut Version)\n",
      "Written by: Marta Kauffman & David Crane\n",
      "\n",
      "\n",
      "[Scene: Central Perk, Chandler, Joey, Phoebe, and Monica are there.]\n",
      "\n",
      "Monica: There's nothing to tell! He's just some guy I work with!\n",
      "\n",
      "Joey: C'mon, you're going out with the guy! There'\n"
     ]
    }
   ],
   "source": [
    "import glob\n",
    "text = \"\"\n",
    "folder_name = \"C:\\Kaggle\\DataSet\\FRIENDS-TV-Series-Screenplay-Script\"\n",
    "for f in glob.glob(folder_name + '/*.txt'):\n",
    "    temp = open(f,'r',encoding='utf-8')\n",
    "    text += temp.read()\n",
    "    temp.close()\n",
    "len(text)\n",
    "print(text[0:300])"
   ]
  },
  {
   "cell_type": "code",
   "execution_count": 25,
   "metadata": {},
   "outputs": [
    {
     "data": {
      "image/png": "[encoded data removed]",
      "text/plain": [
       "<Figure size 864x576 with 1 Axes>"
      ]
     },
     "metadata": {
      "needs_background": "light"
     },
     "output_type": "display_data"
    }
   ],
   "source": [
    "# Create stopword list:\n",
    "import matplotlib.pyplot as plt\n",
    "from wordcloud import WordCloud, STOPWORDS\n",
    "stopwords = set(STOPWORDS)\n",
    "\n",
    "#Add more words to ignore \n",
    "stopwords.update([\"oh\",\"Ro\",\"wa\",\"thi\", \"okay\",\"jut\", \"look\"])\n",
    "\n",
    "#Redo stop words. Limit number of words\n",
    "wordcloud = WordCloud(stopwords=stopwords, max_words=200, background_color=\"azure\").generate(text)\n",
    "\n",
    "plt.figure(figsize=(12, 8))\n",
    "plt.imshow(wordcloud)\n",
    "plt.axis(\"off\")\n",
    "plt.show()"
   ]
  },
  {
   "cell_type": "code",
   "execution_count": null,
   "metadata": {},
   "outputs": [],
   "source": []
  }
 ],
 "metadata": {
  "kernelspec": {
   "display_name": "Python 3",
   "language": "python",
   "name": "python3"
  },
  "language_info": {
   "codemirror_mode": {
    "name": "ipython",
    "version": 3
   },
   "file_extension": ".py",
   "mimetype": "text/x-python",
   "name": "python",
   "nbconvert_exporter": "python",
   "pygments_lexer": "ipython3",
   "version": "3.7.4"
  }
 },
 "nbformat": 4,
 "nbformat_minor": 2
}
